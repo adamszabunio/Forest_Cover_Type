{
 "cells": [
  {
   "cell_type": "code",
   "execution_count": 127,
   "metadata": {},
   "outputs": [
    {
     "data": {
      "text/plain": [
       "Counter({'Catamount_family,': 1,\n",
       "         'Comanche_Peak_Wilderness_Area.': 1,\n",
       "         'Leighcan_family_complex,': 1,\n",
       "         'Rock_outcrop,': 1,\n",
       "         'climatic_zone_subalpine,': 1,\n",
       "         'extremely_stony,': 1,\n",
       "         'geologic_zone_igneous_and_metamorphic': 1})"
      ]
     },
     "execution_count": 127,
     "metadata": {},
     "output_type": "execute_result"
    }
   ],
   "source": [
    "test = Counter()\n",
    "\n",
    "a = query[0]\n",
    "b = list(a.split(\" \"))\n",
    "test.update(b)\n",
    "test"
   ]
  },
  {
   "cell_type": "code",
   "execution_count": 60,
   "metadata": {},
   "outputs": [
    {
     "data": {
      "text/plain": [
       "[('climatic_zone_subalpine', 2352),\n",
       " ('geologic_zone_igneous_and_metamorphic', 1831),\n",
       " ('extremely_stony', 1721),\n",
       " ('rawah_wilderness_area', 1357),\n",
       " ('comanche_peak_wilderness_area', 1140),\n",
       " ('leighcan_family', 985),\n",
       " ('geologic_zone_glacial', 824),\n",
       " ('till_substratum', 821),\n",
       " ('como', 535),\n",
       " ('legault_families_complex', 535)]"
      ]
     },
     "execution_count": 60,
     "metadata": {},
     "output_type": "execute_result"
    }
   ],
   "source": [
    "i = 1\n",
    "query = X_wild_soil_w_targets.query(\"soil_type == {}\".format(i))[\"wild_soil\"]\n",
    "test = Counter()\n",
    "for row in query:\n",
    "    words = list(row.split(\" \"))\n",
    "    test.update(words)\n",
    "test.most_common(10)"
   ]
  },
  {
   "cell_type": "code",
   "execution_count": 65,
   "metadata": {},
   "outputs": [
    {
     "data": {
      "text/plain": [
       "['climatic_zone_subalpine',\n",
       " 'geologic_zone_igneous_and_metamorphic',\n",
       " 'extremely_stony',\n",
       " 'rawah_wilderness_area',\n",
       " 'comanche_peak_wilderness_area',\n",
       " 'leighcan_family',\n",
       " 'geologic_zone_glacial',\n",
       " 'till_substratum',\n",
       " 'como',\n",
       " 'legault_families_complex']"
      ]
     },
     "execution_count": 65,
     "metadata": {},
     "output_type": "execute_result"
    }
   ],
   "source": [
    "[i[0] for i in test.most_common(10)]"
   ]
  },
  {
   "cell_type": "code",
   "execution_count": 66,
   "metadata": {},
   "outputs": [
    {
     "name": "stdout",
     "output_type": "stream",
     "text": [
      "Soil Type 1:\n",
      "Unique words in Soil Type 1 vocabulary: 57\n",
      "Top 10 words in Soil Type 1: ['climatic_zone_subalpine', 'geologic_zone_igneous_and_metamorphic', 'extremely_stony', 'rawah_wilderness_area', 'comanche_peak_wilderness_area', 'leighcan_family', 'geologic_zone_glacial', 'till_substratum', 'como', 'legault_families_complex'] \n",
      "\n",
      "Soil Type 2:\n",
      "Unique words in Soil Type 2 vocabulary: 61\n",
      "Top 10 words in Soil Type 2: ['geologic_zone_igneous_and_metamorphic', 'climatic_zone_subalpine', 'extremely_stony', 'rawah_wilderness_area', 'comanche_peak_wilderness_area', 'como', 'legault_families_complex', 'climatic_zone_montane', 'catamount_families', 'rock_outcrop_complex'] \n",
      "\n",
      "Soil Type 3:\n",
      "Unique words in Soil Type 3 vocabulary: 36\n",
      "Top 10 words in Soil Type 3: ['geologic_zone_igneous_and_metamorphic', 'rock_outcrop_complex', 'rubbly', 'climatic_zone_lower_montane', 'cache_la_poudre_wilderness_area', 'comanche_peak_wilderness_area', 'climatic_zone_montane', 'bullwark', 'catamount_families', 'vanet'] \n",
      "\n",
      "Soil Type 4:\n",
      "Unique words in Soil Type 4 vocabulary: 29\n",
      "Top 10 words in Soil Type 4: ['cache_la_poudre_wilderness_area', 'geologic_zone_igneous_and_metamorphic', 'rock_outcrop_complex', 'climatic_zone_lower_montane', 'rubbly', 'haploborolis', 'geologic_zone_alluvium', 'climatic_zone_montane_and_subalpine', 'gateview_family', 'cryaquolis_complex'] \n",
      "\n",
      "Soil Type 5:\n",
      "Unique words in Soil Type 5 vocabulary: 43\n",
      "Top 10 words in Soil Type 5: ['geologic_zone_igneous_and_metamorphic', 'comanche_peak_wilderness_area', 'climatic_zone_subalpine', 'extremely_stony', 'rawah_wilderness_area', 'rock_land', 'rubbly', 'climatic_zone_montane', 'como_family', 'legault_family_complex'] \n",
      "\n",
      "Soil Type 6:\n",
      "Unique words in Soil Type 6 vocabulary: 45\n",
      "Top 10 words in Soil Type 6: ['geologic_zone_igneous_and_metamorphic', 'rock_outcrop_complex', 'rubbly', 'climatic_zone_montane', 'catamount_families', 'cache_la_poudre_wilderness_area', 'bullwark', 'comanche_peak_wilderness_area', 'climatic_zone_lower_montane', 'vanet'] \n",
      "\n",
      "Soil Type 7:\n",
      "Unique words in Soil Type 7 vocabulary: 43\n",
      "Top 10 words in Soil Type 7: ['geologic_zone_igneous_and_metamorphic', 'extremely_stony', 'climatic_zone_alpine', 'comanche_peak_wilderness_area', 'cryorthents', 'moran_family', 'leighcan', 'leighcan_family_complex', 'moran_families', 'cryaquolls_complex'] \n",
      "\n"
     ]
    }
   ],
   "source": [
    "soil_CountVect = dict()\n",
    "for i in range(1, 8): \n",
    "    print(\"Soil Type {}:\".format(i))\n",
    "    query = X_wild_soil_w_targets.query(\"soil_type == {}\".format(i))[\"wild_soil\"]\n",
    "    temp_counter = Counter()\n",
    "    for row in query:\n",
    "        words = list(row.split(\" \"))\n",
    "        temp_counter.update(words)\n",
    "    top_10 = [i[0] for i in temp_counter.most_common(10)]\n",
    "    print(\"Unique words in Soil Type {} vocabulary: {}\".format(i, len(temp_counter)))\n",
    "    print(\"Top 10 words in Soil Type {}: {} \\n\".format(i, top_10))        \n",
    "    soil_CountVect[\"Soil Type {}:\".format(i)] = \", \".join(top_10)"
   ]
  },
  {
   "cell_type": "code",
   "execution_count": 67,
   "metadata": {
    "collapsed": true
   },
   "outputs": [],
   "source": [
    "from sklearn.feature_extraction.text import CountVectorizer"
   ]
  },
  {
   "cell_type": "code",
   "execution_count": 71,
   "metadata": {},
   "outputs": [
    {
     "data": {
      "text/plain": [
       "((19229, 75), set())"
      ]
     },
     "execution_count": 71,
     "metadata": {},
     "output_type": "execute_result"
    }
   ],
   "source": [
    "# CountVectorizer for entire dataset\n",
    "min_df = 1 # default making a point to keep all features if min_df=2 then only token removed is 'not_in_survey'\n",
    "max_df = 0.95 # unless they appear in all docs \n",
    "max_features = 100\n",
    "vectorizer = CountVectorizer(max_features=max_features, max_df=max_df, min_df=min_df)\n",
    "\n",
    "vectorized = vectorizer.fit_transform(X_wild_soil)\n",
    "vectorized.shape, vectorizer.stop_words_"
   ]
  },
  {
   "cell_type": "code",
   "execution_count": 73,
   "metadata": {
    "collapsed": true
   },
   "outputs": [],
   "source": [
    "from sklearn.decomposition import NMF"
   ]
  },
  {
   "cell_type": "code",
   "execution_count": 74,
   "metadata": {
    "collapsed": true
   },
   "outputs": [],
   "source": [
    "model = NMF(init=\"nndsvd\",\n",
    "            n_components=7,\n",
    "            max_iter=200)"
   ]
  },
  {
   "cell_type": "code",
   "execution_count": 75,
   "metadata": {
    "collapsed": true
   },
   "outputs": [],
   "source": [
    "W = model.fit_transform(vectorized)\n",
    "H = model.components_"
   ]
  },
  {
   "cell_type": "code",
   "execution_count": 76,
   "metadata": {},
   "outputs": [
    {
     "data": {
      "text/plain": [
       "((19229, 7), (7, 75))"
      ]
     },
     "execution_count": 76,
     "metadata": {},
     "output_type": "execute_result"
    }
   ],
   "source": [
    "W.shape, H.shape"
   ]
  },
  {
   "cell_type": "code",
   "execution_count": 77,
   "metadata": {
    "collapsed": true
   },
   "outputs": [],
   "source": [
    "terms = [\"\"] * len(vectorizer.vocabulary_)\n",
    "for term in vectorizer.vocabulary_.keys():\n",
    "    terms[vectorizer.vocabulary_[term]] = term"
   ]
  },
  {
   "cell_type": "code",
   "execution_count": 79,
   "metadata": {},
   "outputs": [
    {
     "name": "stdout",
     "output_type": "stream",
     "text": [
      "Soil Topic 1: catamount_families, bullwark, climatic_zone_montane, rubbly, rock_outcrop_complex, geologic_zone_igneous_and_metamorphic, cache_la_poudre_wilderness_area, rock_land_complex, comanche_peak_wilderness_area, legault_family \n",
      "\n",
      "Soil Topic 2: rawah_wilderness_area, geologic_zone_igneous_and_metamorphic, extremely_stony, climatic_zone_subalpine, legault_families_complex, como, legault_family_complex, como_family, rock_land, legault_family \n",
      "\n",
      "Soil Topic 3: climatic_zone_lower_montane, cache_la_poudre_wilderness_area, geologic_zone_igneous_and_metamorphic, rock_outcrop_complex, rubbly, vanet, haploborolis, stony, wetmore_families, ratake_family \n",
      "\n",
      "Soil Topic 4: leighcan_family, geologic_zone_glacial, till_substratum, climatic_zone_subalpine, typic_cryaquolls_complex, rawah_wilderness_area, extremely_bouldery, comanche_peak_wilderness_area, neota_wilderness_area, geologic_zone_alluvium \n",
      "\n",
      "Soil Topic 5: extremely_stony, comanche_peak_wilderness_area, climatic_zone_subalpine, geologic_zone_igneous_and_metamorphic, leighcan, rock_outcrop, leighcan_family_complex, catamount_family, rock_outcrop_complex, catamount_families \n",
      "\n",
      "Soil Topic 6: climatic_zone_alpine, extremely_stony, geologic_zone_igneous_and_metamorphic, cryorthents, moran_family, leighcan_family_complex, comanche_peak_wilderness_area, rock_land_complex, cryaquolls_complex, moran_families \n",
      "\n",
      "Soil Topic 7: comanche_peak_wilderness_area, rubbly, geologic_zone_igneous_and_metamorphic, rock_land, climatic_zone_montane, catamount_family, bullwark_family_complex, ratake_family, climatic_zone_lower_montane, rock_land_complex \n",
      "\n"
     ]
    }
   ],
   "source": [
    "for topic_index in range(H.shape[0]):\n",
    "    top_indicies = np.argsort(H[topic_index, :])[::-1][0:10]\n",
    "    term_ranking = [terms[i] for i in top_indicies]\n",
    "    print(\"Soil Topic {}: {} \\n\".format(topic_index+1, \", \".join(term_ranking)))"
   ]
  },
  {
   "cell_type": "code",
   "execution_count": 81,
   "metadata": {},
   "outputs": [
    {
     "name": "stdout",
     "output_type": "stream",
     "text": [
      "Soil Type 1: climatic_zone_subalpine, geologic_zone_igneous_and_metamorphic, extremely_stony, rawah_wilderness_area, comanche_peak_wilderness_area, leighcan_family, geologic_zone_glacial, till_substratum, como, legault_families_complex\n",
      "\n",
      "Soil Type 2: geologic_zone_igneous_and_metamorphic, climatic_zone_subalpine, extremely_stony, rawah_wilderness_area, comanche_peak_wilderness_area, como, legault_families_complex, climatic_zone_montane, catamount_families, rock_outcrop_complex\n",
      "\n",
      "Soil Type 3: geologic_zone_igneous_and_metamorphic, rock_outcrop_complex, rubbly, climatic_zone_lower_montane, cache_la_poudre_wilderness_area, comanche_peak_wilderness_area, climatic_zone_montane, bullwark, catamount_families, vanet\n",
      "\n",
      "Soil Type 4: cache_la_poudre_wilderness_area, geologic_zone_igneous_and_metamorphic, rock_outcrop_complex, climatic_zone_lower_montane, rubbly, haploborolis, geologic_zone_alluvium, climatic_zone_montane_and_subalpine, gateview_family, cryaquolis_complex\n",
      "\n",
      "Soil Type 5: geologic_zone_igneous_and_metamorphic, comanche_peak_wilderness_area, climatic_zone_subalpine, extremely_stony, rawah_wilderness_area, rock_land, rubbly, climatic_zone_montane, como_family, legault_family_complex\n",
      "\n",
      "Soil Type 6: geologic_zone_igneous_and_metamorphic, rock_outcrop_complex, rubbly, climatic_zone_montane, catamount_families, cache_la_poudre_wilderness_area, bullwark, comanche_peak_wilderness_area, climatic_zone_lower_montane, vanet\n",
      "\n",
      "Soil Type 7: geologic_zone_igneous_and_metamorphic, extremely_stony, climatic_zone_alpine, comanche_peak_wilderness_area, cryorthents, moran_family, leighcan, leighcan_family_complex, moran_families, cryaquolls_complex\n",
      "\n"
     ]
    }
   ],
   "source": [
    "for k, v in soil_CountVect.items():\n",
    "    v_str = v\n",
    "    print(k, v_str)\n",
    "    print(\"\")"
   ]
  },
  {
   "cell_type": "code",
   "execution_count": 85,
   "metadata": {
    "collapsed": true
   },
   "outputs": [],
   "source": [
    "from sklearn.feature_extraction.text import TfidfVectorizer"
   ]
  },
  {
   "cell_type": "code",
   "execution_count": 86,
   "metadata": {},
   "outputs": [
    {
     "data": {
      "text/plain": [
       "((19229, 75), set())"
      ]
     },
     "execution_count": 86,
     "metadata": {},
     "output_type": "execute_result"
    }
   ],
   "source": [
    "# Tfidf on entire dataset (balanced)\n",
    "min_df = 1 # default making a point to keep all features \n",
    "max_df = 0.95 # unless they appear in all docs \n",
    "max_features = 100 # not a problem here... soil + wilderness has a max of 70 feats\n",
    "\n",
    "tfidf_vec = TfidfVectorizer(max_features=max_features, max_df=max_df, min_df=min_df)\n",
    "\n",
    "tfidf_vecD = tfidf_vec.fit_transform(X_wild_soil)\n",
    "tfidf_vecD.shape, tfidf_vec.stop_words_"
   ]
  },
  {
   "cell_type": "code",
   "execution_count": 87,
   "metadata": {
    "collapsed": true
   },
   "outputs": [],
   "source": [
    "terms = [\"\"] * len(tfidf_vec.vocabulary_)\n",
    "for term in tfidf_vec.vocabulary_.keys():\n",
    "    terms[tfidf_vec.vocabulary_[term]] = term"
   ]
  },
  {
   "cell_type": "code",
   "execution_count": 88,
   "metadata": {},
   "outputs": [
    {
     "data": {
      "text/plain": [
       "((19229, 7), (7, 75))"
      ]
     },
     "execution_count": 88,
     "metadata": {},
     "output_type": "execute_result"
    }
   ],
   "source": [
    "model_tfidf = NMF(init=\"nndsvd\",\n",
    "                n_components=7,\n",
    "                max_iter=200)\n",
    "\n",
    "W_tfidf = model_tfidf.fit_transform(tfidf_vecD)\n",
    "H_tfidf = model_tfidf.components_\n",
    "\n",
    "W_tfidf.shape, H_tfidf.shape"
   ]
  },
  {
   "cell_type": "code",
   "execution_count": 90,
   "metadata": {},
   "outputs": [
    {
     "name": "stdout",
     "output_type": "stream",
     "text": [
      "Soil Type 1: bullwark, climatic_zone_montane, catamount_families, rubbly, rock_outcrop_complex, cache_la_poudre_wilderness_area, geologic_zone_igneous_and_metamorphic, comanche_peak_wilderness_area, rock_land_complex, bullwark_family_complex\n",
      "\n",
      "Soil Type 2: legault_families_complex, como, rawah_wilderness_area, climatic_zone_subalpine, extremely_stony, geologic_zone_igneous_and_metamorphic, cathedral_family, legault_family, leighcan_family, stony\n",
      "\n",
      "Soil Type 3: climatic_zone_lower_montane, rock_outcrop_complex, cache_la_poudre_wilderness_area, haploborolis, rubbly, geologic_zone_igneous_and_metamorphic, ratake_family, vanet, wetmore_families, stony\n",
      "\n",
      "Soil Type 4: cryorthents, moran_family, climatic_zone_alpine, leighcan_family_complex, extremely_stony, rock_land_complex, comanche_peak_wilderness_area, geologic_zone_igneous_and_metamorphic, rock_outcrop, neota_wilderness_area\n",
      "\n",
      "Soil Type 5: leighcan_family, till_substratum, geologic_zone_glacial, typic_cryaquolls_complex, climatic_zone_subalpine, extremely_bouldery, comanche_peak_wilderness_area, rawah_wilderness_area, neota_wilderness_area, geologic_zone_alluvium\n",
      "\n",
      "Soil Type 6: rock_land, como_family, legault_family_complex, catamount_family, climatic_zone_subalpine, extremely_stony, rawah_wilderness_area, bullwark_family_complex, geologic_zone_igneous_and_metamorphic, rock_outcrop\n",
      "\n",
      "Soil Type 7: leighcan, extremely_stony, comanche_peak_wilderness_area, moran_families, cryaquolls_complex, climatic_zone_subalpine, climatic_zone_alpine, geologic_zone_igneous_and_metamorphic, catamount_families_complex, catamount_families\n",
      "\n"
     ]
    }
   ],
   "source": [
    "for topic_index in range(H_tfidf.shape[0]):\n",
    "    top_indices = np.argsort(H_tfidf[topic_index,:])[::-1][0:10]\n",
    "    term_ranking = [terms[i] for i in top_indices]\n",
    "    print(\"Soil Type {}: {}\\n\".format(topic_index+1, \", \".join(term_ranking)))"
   ]
  },
  {
   "cell_type": "code",
   "execution_count": 91,
   "metadata": {},
   "outputs": [
    {
     "name": "stdout",
     "output_type": "stream",
     "text": [
      "Soil Type 1: climatic_zone_subalpine, geologic_zone_igneous_and_metamorphic, extremely_stony, rawah_wilderness_area, comanche_peak_wilderness_area, leighcan_family, geologic_zone_glacial, till_substratum, como, legault_families_complex\n",
      "\n",
      "Soil Type 2: geologic_zone_igneous_and_metamorphic, climatic_zone_subalpine, extremely_stony, rawah_wilderness_area, comanche_peak_wilderness_area, como, legault_families_complex, climatic_zone_montane, catamount_families, rock_outcrop_complex\n",
      "\n",
      "Soil Type 3: geologic_zone_igneous_and_metamorphic, rock_outcrop_complex, rubbly, climatic_zone_lower_montane, cache_la_poudre_wilderness_area, comanche_peak_wilderness_area, climatic_zone_montane, bullwark, catamount_families, vanet\n",
      "\n",
      "Soil Type 4: cache_la_poudre_wilderness_area, geologic_zone_igneous_and_metamorphic, rock_outcrop_complex, climatic_zone_lower_montane, rubbly, haploborolis, geologic_zone_alluvium, climatic_zone_montane_and_subalpine, gateview_family, cryaquolis_complex\n",
      "\n",
      "Soil Type 5: geologic_zone_igneous_and_metamorphic, comanche_peak_wilderness_area, climatic_zone_subalpine, extremely_stony, rawah_wilderness_area, rock_land, rubbly, climatic_zone_montane, como_family, legault_family_complex\n",
      "\n",
      "Soil Type 6: geologic_zone_igneous_and_metamorphic, rock_outcrop_complex, rubbly, climatic_zone_montane, catamount_families, cache_la_poudre_wilderness_area, bullwark, comanche_peak_wilderness_area, climatic_zone_lower_montane, vanet\n",
      "\n",
      "Soil Type 7: geologic_zone_igneous_and_metamorphic, extremely_stony, climatic_zone_alpine, comanche_peak_wilderness_area, cryorthents, moran_family, leighcan, leighcan_family_complex, moran_families, cryaquolls_complex\n",
      "\n"
     ]
    }
   ],
   "source": [
    "for k, v in soil_CountVect.items():\n",
    "    v_str = v\n",
    "    print(k, v_str)\n",
    "    print(\"\")"
   ]
  },
  {
   "cell_type": "code",
   "execution_count": 92,
   "metadata": {
    "collapsed": true
   },
   "outputs": [],
   "source": [
    "from sklearn.decomposition.online_lda import LatentDirichletAllocation"
   ]
  },
  {
   "cell_type": "code",
   "execution_count": 94,
   "metadata": {
    "collapsed": true
   },
   "outputs": [],
   "source": [
    "lda = LatentDirichletAllocation(n_components=7,\n",
    "                                max_iter=5,\n",
    "                                learning_method='online',\n",
    "                                learning_offset=50,\n",
    "                                random_state=42)"
   ]
  },
  {
   "cell_type": "code",
   "execution_count": 95,
   "metadata": {},
   "outputs": [
    {
     "data": {
      "text/plain": [
       "LatentDirichletAllocation(batch_size=128, doc_topic_prior=None,\n",
       "             evaluate_every=-1, learning_decay=0.7,\n",
       "             learning_method='online', learning_offset=50,\n",
       "             max_doc_update_iter=100, max_iter=5, mean_change_tol=0.001,\n",
       "             n_components=7, n_jobs=1, n_topics=None, perp_tol=0.1,\n",
       "             random_state=42, topic_word_prior=None,\n",
       "             total_samples=1000000.0, verbose=0)"
      ]
     },
     "execution_count": 95,
     "metadata": {},
     "output_type": "execute_result"
    }
   ],
   "source": [
    "lda.fit(tfidf_vecD)"
   ]
  },
  {
   "cell_type": "code",
   "execution_count": 189,
   "metadata": {},
   "outputs": [
    {
     "data": {
      "text/plain": [
       "array([ 8, 56, 44, 17, 16, 30, 34, 66, 32, 69])"
      ]
     },
     "execution_count": 189,
     "metadata": {},
     "output_type": "execute_result"
    }
   ],
   "source": [
    "b[0].argsort()[:-11:-1]"
   ]
  },
  {
   "cell_type": "code",
   "execution_count": 190,
   "metadata": {},
   "outputs": [
    {
     "name": "stdout",
     "output_type": "stream",
     "text": [
      "Topic 1: catamount_family, rock_outcrop, leighcan_family_complex, comanche_peak_wilderness_area, climatic_zone_subalpine, extremely_stony, geologic_zone_igneous_and_metamorphic, typic_cryaquepts, geologic_zone_alluvium, typic_cryaquolls_complex\n",
      "\n",
      "Topic 2: climatic_zone_montane, bullwark, rubbly, cache_la_poudre_wilderness_area, rock_land, geologic_zone_igneous_and_metamorphic, como_family, legault_family_complex, climatic_zone_montane_and_subalpine, bullwark_family_complex\n",
      "\n",
      "Topic 3: cryorthents, moran_family, climatic_zone_alpine, rock_land_complex, extremely_stony, leighcan_family_complex, comanche_peak_wilderness_area, geologic_zone_igneous_and_metamorphic, neota_wilderness_area, catamount_families_complex\n",
      "\n",
      "Topic 4: catamount_families, rock_outcrop_complex, leighcan, comanche_peak_wilderness_area, cryaquolls_complex, moran_families, geologic_zone_igneous_and_metamorphic, extremely_stony, climatic_zone_alpine, climatic_zone_subalpine\n",
      "\n",
      "Topic 5: rawah_wilderness_area, climatic_zone_subalpine, extremely_stony, legault_families_complex, como, geologic_zone_igneous_and_metamorphic, legault_family, stony, rock_land_complex, climatic_zone_montane\n",
      "\n",
      "Topic 6: climatic_zone_lower_montane, rock_outcrop_complex, cache_la_poudre_wilderness_area, rubbly, geologic_zone_igneous_and_metamorphic, haploborolis, vanet, ratake_family, very_stony, wetmore_families\n",
      "\n",
      "Topic 7: leighcan_family, geologic_zone_glacial, till_substratum, typic_cryaquolls_complex, climatic_zone_subalpine, comanche_peak_wilderness_area, rawah_wilderness_area, extremely_bouldery, neota_wilderness_area, typic_cryaquolls\n",
      "\n"
     ]
    }
   ],
   "source": [
    "tf_feature_names = tfidf_vec.get_feature_names()\n",
    "lda_topics = dict()\n",
    "for topic_idx, topic in enumerate(lda.components_):\n",
    "    lda_topics[\"Topic {}:\".format(topic_idx+1)] = [i for i in topic.argsort()[:-11:-1]] # keep track of indicies \n",
    "    print(\"Topic {}:\".format(topic_idx+1), \", \".join([tf_feature_names[i] for i in topic.argsort()[:-11:-1]]))\n",
    "    print(\"\")"
   ]
  },
  {
   "cell_type": "code",
   "execution_count": 199,
   "metadata": {},
   "outputs": [
    {
     "name": "stdout",
     "output_type": "stream",
     "text": [
      "Soil Type 1: climatic_zone_subalpine, geologic_zone_igneous_and_metamorphic, extremely_stony, rawah_wilderness_area, comanche_peak_wilderness_area, leighcan_family, geologic_zone_glacial, till_substratum, como, legault_families_complex\n",
      "\n",
      "Soil Type 2: geologic_zone_igneous_and_metamorphic, climatic_zone_subalpine, extremely_stony, rawah_wilderness_area, comanche_peak_wilderness_area, como, legault_families_complex, climatic_zone_montane, catamount_families, rock_outcrop_complex\n",
      "\n",
      "Soil Type 3: geologic_zone_igneous_and_metamorphic, rock_outcrop_complex, rubbly, climatic_zone_lower_montane, cache_la_poudre_wilderness_area, comanche_peak_wilderness_area, climatic_zone_montane, bullwark, catamount_families, vanet\n",
      "\n",
      "Soil Type 4: cache_la_poudre_wilderness_area, geologic_zone_igneous_and_metamorphic, rock_outcrop_complex, climatic_zone_lower_montane, rubbly, haploborolis, geologic_zone_alluvium, climatic_zone_montane_and_subalpine, gateview_family, cryaquolis_complex\n",
      "\n",
      "Soil Type 5: geologic_zone_igneous_and_metamorphic, comanche_peak_wilderness_area, climatic_zone_subalpine, extremely_stony, rawah_wilderness_area, rock_land, rubbly, climatic_zone_montane, como_family, legault_family_complex\n",
      "\n",
      "Soil Type 6: geologic_zone_igneous_and_metamorphic, rock_outcrop_complex, rubbly, climatic_zone_montane, catamount_families, cache_la_poudre_wilderness_area, bullwark, comanche_peak_wilderness_area, climatic_zone_lower_montane, vanet\n",
      "\n",
      "Soil Type 7: geologic_zone_igneous_and_metamorphic, extremely_stony, climatic_zone_alpine, comanche_peak_wilderness_area, cryorthents, moran_family, leighcan, leighcan_family_complex, moran_families, cryaquolls_complex\n",
      "\n"
     ]
    }
   ],
   "source": [
    "for k, v in soil_CountVect.items():\n",
    "    print(k, v)\n",
    "    print(\"\")"
   ]
  },
  {
   "cell_type": "code",
   "execution_count": 191,
   "metadata": {},
   "outputs": [
    {
     "data": {
      "text/plain": [
       "{'Topic 1:': [8, 56, 44, 17, 16, 30, 34, 66, 32, 69],\n",
       " 'Topic 2:': [12, 3, 60, 5, 54, 34, 19, 41, 13, 4],\n",
       " 'Topic 3:': [25, 47, 10, 55, 30, 44, 17, 34, 48, 7],\n",
       " 'Topic 4:': [6, 57, 42, 17, 23, 46, 34, 30, 10, 16],\n",
       " 'Topic 5:': [53, 16, 30, 39, 18, 34, 40, 61, 55, 12],\n",
       " 'Topic 6:': [11, 57, 5, 60, 34, 38, 70, 52, 72, 74],\n",
       " 'Topic 7:': [43, 33, 63, 69, 16, 17, 53, 29, 48, 68]}"
      ]
     },
     "execution_count": 191,
     "metadata": {},
     "output_type": "execute_result"
    }
   ],
   "source": [
    "lda_topics"
   ]
  },
  {
   "cell_type": "code",
   "execution_count": 207,
   "metadata": {},
   "outputs": [
    {
     "data": {
      "text/plain": [
       "['climatic_zone_subalpine',\n",
       " 'geologic_zone_igneous_and_metamorphic',\n",
       " 'extremely_stony',\n",
       " 'rawah_wilderness_area',\n",
       " 'comanche_peak_wilderness_area',\n",
       " 'leighcan_family',\n",
       " 'geologic_zone_glacial',\n",
       " 'till_substratum',\n",
       " 'como',\n",
       " 'legault_families_complex']"
      ]
     },
     "execution_count": 207,
     "metadata": {},
     "output_type": "execute_result"
    }
   ],
   "source": [
    "soil_CountVect[\"Soil Type 1:\"].split(\", \")"
   ]
  },
  {
   "cell_type": "code",
   "execution_count": 210,
   "metadata": {},
   "outputs": [
    {
     "name": "stdout",
     "output_type": "stream",
     "text": [
      "16 53\n",
      "34 16\n",
      "30 30\n",
      "53 39\n",
      "17 18\n",
      "43 34\n",
      "33 40\n",
      "63 61\n",
      "18 55\n",
      "39 12\n"
     ]
    }
   ],
   "source": [
    "test_true = list()\n",
    "for y_true, y_pred in zip(soil_CountVect[\"Soil Type 1:\"].split(\", \"), lda_topics[\"Topic 5:\"]):\n",
    "    test_true.append(tf_feature_names.index(y_true))\n",
    "    print(tf_feature_names.index(y_true), y_pred)"
   ]
  },
  {
   "cell_type": "code",
   "execution_count": 5,
   "metadata": {},
   "outputs": [
    {
     "data": {
      "text/plain": [
       "{12, 16, 18, 30, 34, 39, 40, 53, 55, 61}"
      ]
     },
     "execution_count": 5,
     "metadata": {},
     "output_type": "execute_result"
    }
   ],
   "source": [
    "y_true = set([53, 16, 30, 39, 18, 34, 40, 61, 55, 12])\n",
    "y_true"
   ]
  },
  {
   "cell_type": "code",
   "execution_count": 6,
   "metadata": {},
   "outputs": [
    {
     "data": {
      "text/plain": [
       "{16, 17, 18, 30, 33, 34, 39, 43, 53, 63}"
      ]
     },
     "execution_count": 6,
     "metadata": {},
     "output_type": "execute_result"
    }
   ],
   "source": [
    "y_pred = set([16, 34, 30, 53, 17, 43, 33, 63, 18, 39])\n",
    "y_pred"
   ]
  },
  {
   "cell_type": "code",
   "execution_count": 7,
   "metadata": {},
   "outputs": [
    {
     "data": {
      "text/plain": [
       "{16, 18, 30, 34, 39, 53}"
      ]
     },
     "execution_count": 7,
     "metadata": {},
     "output_type": "execute_result"
    }
   ],
   "source": [
    "y_true.intersection(y_pred)"
   ]
  },
  {
   "cell_type": "code",
   "execution_count": 9,
   "metadata": {},
   "outputs": [
    {
     "data": {
      "text/plain": [
       "60.0"
      ]
     },
     "execution_count": 9,
     "metadata": {},
     "output_type": "execute_result"
    }
   ],
   "source": [
    "len(y_true.intersection(y_pred))/len(y_true) * 100\n"
   ]
  }
 ],
 "metadata": {
  "kernelspec": {
   "display_name": "Python 3",
   "language": "python",
   "name": "python3"
  },
  "language_info": {
   "codemirror_mode": {
    "name": "ipython",
    "version": 3
   },
   "file_extension": ".py",
   "mimetype": "text/x-python",
   "name": "python",
   "nbconvert_exporter": "python",
   "pygments_lexer": "ipython3",
   "version": "3.6.0"
  }
 },
 "nbformat": 4,
 "nbformat_minor": 2
}
