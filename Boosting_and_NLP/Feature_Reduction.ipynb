{
 "cells": [
  {
   "cell_type": "code",
   "execution_count": 1,
   "metadata": {
    "collapsed": true
   },
   "outputs": [],
   "source": [
    "import re\n",
    "from sklearn.datasets import fetch_covtype # dataset\n",
    "from sklearn.model_selection import train_test_split # split dataset into training/test sets\n",
    "from imblearn.under_sampling import RandomUnderSampler \n",
    "from collections import defaultdict, Counter\n",
    "import pandas as pd\n",
    "import numpy as np"
   ]
  },
  {
   "cell_type": "code",
   "execution_count": 2,
   "metadata": {
    "collapsed": true
   },
   "outputs": [],
   "source": [
    "# download the dataset from:\n",
    "# \"http://archive.ics.uci.edu/ml/machine-learning-databases/covtype/covtype.data.gz\"\n",
    "cover_type = fetch_covtype() "
   ]
  },
  {
   "cell_type": "code",
   "execution_count": 3,
   "metadata": {
    "collapsed": false
   },
   "outputs": [
    {
     "name": "stdout",
     "output_type": "stream",
     "text": [
      "Original dataset shape:\n",
      " Counter({2: 283301, 1: 211840, 3: 35754, 7: 20510, 6: 17367, 5: 9493, 4: 2747})\n"
     ]
    }
   ],
   "source": [
    "X = cover_type.data\n",
    "y = cover_type.target\n",
    "\n",
    "print('Original dataset shape:\\n {}'.format(Counter(y)))"
   ]
  },
  {
   "cell_type": "markdown",
   "metadata": {},
   "source": [
    "### As seen above,  the dataset is heavily imbalanced. Using a Random Undersampler, I undersample the imbalanced classes w/ replacement.\n"
   ]
  },
  {
   "cell_type": "code",
   "execution_count": 4,
   "metadata": {
    "collapsed": false
   },
   "outputs": [
    {
     "name": "stdout",
     "output_type": "stream",
     "text": [
      "Resampled dataset shape: \n",
      " Counter({4: 2747, 5: 2747, 2: 2747, 1: 2747, 7: 2747, 3: 2747, 6: 2747})\n"
     ]
    }
   ],
   "source": [
    "ros = RandomUnderSampler(random_state=42, return_indices=True, replacement=True)\n",
    "X_res, y_res, idx_resampled = ros.fit_sample(X, y)\n",
    "print('Resampled dataset shape: \\n {}'.format(Counter(y_res)))"
   ]
  },
  {
   "cell_type": "code",
   "execution_count": 5,
   "metadata": {
    "collapsed": false
   },
   "outputs": [
    {
     "data": {
      "text/plain": [
       "'Reduce to 3.31% of the orignal dataset.'"
      ]
     },
     "execution_count": 5,
     "metadata": {},
     "output_type": "execute_result"
    }
   ],
   "source": [
    "\"Reduce to {:.2f}% of the orignal dataset.\".format(X_res.shape[0]/X.shape[0] * 100)"
   ]
  },
  {
   "cell_type": "markdown",
   "metadata": {},
   "source": [
    "# To make things even harder we will be using only ≈3% of the complete data. Who doesn't like a challenge?"
   ]
  },
  {
   "cell_type": "code",
   "execution_count": 6,
   "metadata": {
    "collapsed": true
   },
   "outputs": [],
   "source": [
    "soil_types = { \n",
    "    \"2702\": \"Cathedral family - Rock outcrop complex, extremely stony.\",\n",
    "    \"2703\": \"Vanet - Ratake families complex, very stony.\", \n",
    "    \"2704\": \"Haploborolis - Rock outcrop complex, rubbly.\",\n",
    "    \"2705\": \"Ratake family - Rock outcrop complex, rubbly.\",\n",
    "    \"2706\": \"Vanet family - Rock outcrop complex complex, rubbly.\",\n",
    "    \"2717\": \"Vanet - Wetmore families - Rock outcrop complex, stony.\",\n",
    "    \"3501\": \"Gothic family.\",\n",
    "    \"3502\": \"Supervisor - Limber families complex.\",\n",
    "    \"4201\": \"Troutville family, very stony.\",\n",
    "    \"4703\": \"Bullwark - Catamount families - Rock outcrop complex, rubbly.\",\n",
    "    \"4704\": \"Bullwark - Catamount families - Rock land complex, rubbly.\",\n",
    "    \"4744\": \"Legault family - Rock land complex, stony.\",\n",
    "    \"4758\": \"Catamount family - Rock land - Bullwark family complex, rubbly.\",\n",
    "    \"5101\": \"Pachic Argiborolis - Aquolis complex.\",\n",
    "    \"5151\": \"not_in_survey\", # \"unspecified in the USFS Soil and ELU Survey.\",\n",
    "    \"6101\": \"Cryaquolis - Cryoborolis complex.\",\n",
    "    \"6102\": \"Gateview family - Cryaquolis complex.\",\n",
    "    \"6731\": \"Rogert family, very stony.\",\n",
    "    \"7101\": \"Typic Cryaquolis - Borohemists complex.\",\n",
    "    \"7102\": \"Typic Cryaquepts - Typic Cryaquolls complex.\",\n",
    "    \"7103\": \"Typic Cryaquolls - Leighcan family, till substratum complex.\",\n",
    "    \"7201\": \"Leighcan family, till substratum, extremely bouldery.\",\n",
    "    \"7202\": \"Leighcan family, till substratum - Typic Cryaquolls complex.\",\n",
    "    \"7700\": \"Leighcan family, extremely stony.\",\n",
    "    \"7701\": \"Leighcan family, warm, extremely stony.\",\n",
    "    \"7702\": \"Granile - Catamount families complex, very stony.\",\n",
    "    \"7709\": \"Leighcan family, warm - Rock outcrop complex, extremely stony.\",\n",
    "    \"7710\": \"Leighcan family - Rock outcrop complex, extremely stony.\",\n",
    "    \"7745\": \"Como - Legault families complex, extremely stony.\",\n",
    "    \"7746\": \"Como family - Rock land - Legault family complex, extremely stony.\",\n",
    "    \"7755\": \"Leighcan - Catamount families complex, extremely stony.\",\n",
    "    \"7756\": \"Catamount family - Rock outcrop - Leighcan family complex, extremely stony.\",\n",
    "    \"7757\": \"Leighcan - Catamount families - Rock outcrop complex, extremely stony.\",\n",
    "    \"7790\": \"Cryorthents - Rock land complex, extremely stony.\",\n",
    "    \"8703\": \"Cryumbrepts - Rock outcrop - Cryaquepts complex.\",\n",
    "    \"8707\": \"Bross family - Rock land - Cryumbrepts complex, extremely stony.\",\n",
    "    \"8708\": \"Rock outcrop - Cryumbrepts - Cryorthents complex, extremely stony.\",\n",
    "    \"8771\": \"Leighcan - Moran families - Cryaquolls complex, extremely stony.\",\n",
    "    \"8772\": \"Moran family - Cryorthents - Leighcan family complex, extremely stony.\",\n",
    "    \"8776\": \"Moran family - Cryorthents - Rock land complex, extremely stony.\"}"
   ]
  },
  {
   "cell_type": "markdown",
   "metadata": {},
   "source": [
    "### Since a majority of the descriptions above could be considered collocations (e.g. \"Cathedral family\" or \"Rock land complex\"), I simplify the data and join these words to become a single feature."
   ]
  },
  {
   "cell_type": "code",
   "execution_count": 7,
   "metadata": {
    "collapsed": true
   },
   "outputs": [],
   "source": [
    "for k, v in soil_types.items():\n",
    "    fun = re.split(' - |, ', v.lower().replace(\".\", \"\"))\n",
    "    colocations = [i.replace(\" \", \"_\") for i in fun]\n",
    "    soil_types[k] = \" \".join(colocations)"
   ]
  },
  {
   "cell_type": "code",
   "execution_count": 8,
   "metadata": {
    "collapsed": false
   },
   "outputs": [
    {
     "data": {
      "text/plain": [
       "{'2702': 'cathedral_family rock_outcrop_complex extremely_stony',\n",
       " '2703': 'vanet ratake_families_complex very_stony',\n",
       " '2704': 'haploborolis rock_outcrop_complex rubbly',\n",
       " '2705': 'ratake_family rock_outcrop_complex rubbly',\n",
       " '2706': 'vanet_family rock_outcrop_complex_complex rubbly',\n",
       " '2717': 'vanet wetmore_families rock_outcrop_complex stony',\n",
       " '3501': 'gothic_family',\n",
       " '3502': 'supervisor limber_families_complex',\n",
       " '4201': 'troutville_family very_stony',\n",
       " '4703': 'bullwark catamount_families rock_outcrop_complex rubbly',\n",
       " '4704': 'bullwark catamount_families rock_land_complex rubbly',\n",
       " '4744': 'legault_family rock_land_complex stony',\n",
       " '4758': 'catamount_family rock_land bullwark_family_complex rubbly',\n",
       " '5101': 'pachic_argiborolis aquolis_complex',\n",
       " '5151': 'not_in_survey',\n",
       " '6101': 'cryaquolis cryoborolis_complex',\n",
       " '6102': 'gateview_family cryaquolis_complex',\n",
       " '6731': 'rogert_family very_stony',\n",
       " '7101': 'typic_cryaquolis borohemists_complex',\n",
       " '7102': 'typic_cryaquepts typic_cryaquolls_complex',\n",
       " '7103': 'typic_cryaquolls leighcan_family till_substratum_complex',\n",
       " '7201': 'leighcan_family till_substratum extremely_bouldery',\n",
       " '7202': 'leighcan_family till_substratum typic_cryaquolls_complex',\n",
       " '7700': 'leighcan_family extremely_stony',\n",
       " '7701': 'leighcan_family warm extremely_stony',\n",
       " '7702': 'granile catamount_families_complex very_stony',\n",
       " '7709': 'leighcan_family warm rock_outcrop_complex extremely_stony',\n",
       " '7710': 'leighcan_family rock_outcrop_complex extremely_stony',\n",
       " '7745': 'como legault_families_complex extremely_stony',\n",
       " '7746': 'como_family rock_land legault_family_complex extremely_stony',\n",
       " '7755': 'leighcan catamount_families_complex extremely_stony',\n",
       " '7756': 'catamount_family rock_outcrop leighcan_family_complex extremely_stony',\n",
       " '7757': 'leighcan catamount_families rock_outcrop_complex extremely_stony',\n",
       " '7790': 'cryorthents rock_land_complex extremely_stony',\n",
       " '8703': 'cryumbrepts rock_outcrop cryaquepts_complex',\n",
       " '8707': 'bross_family rock_land cryumbrepts_complex extremely_stony',\n",
       " '8708': 'rock_outcrop cryumbrepts cryorthents_complex extremely_stony',\n",
       " '8771': 'leighcan moran_families cryaquolls_complex extremely_stony',\n",
       " '8772': 'moran_family cryorthents leighcan_family_complex extremely_stony',\n",
       " '8776': 'moran_family cryorthents rock_land_complex extremely_stony'}"
      ]
     },
     "execution_count": 8,
     "metadata": {},
     "output_type": "execute_result"
    }
   ],
   "source": [
    "soil_types"
   ]
  },
  {
   "cell_type": "markdown",
   "metadata": {},
   "source": [
    "# Next, I add new features by extracting additional information from map unit keys. \n",
    "### With a little digging around, I was able to make sense of the soil type's ELU codes (4 digit code associated with each soil type). No pun intended.\n",
    "\n",
    "### First digit:  climatic zone   \n",
    "### Second digit:  geologic zones"
   ]
  },
  {
   "cell_type": "code",
   "execution_count": 9,
   "metadata": {
    "collapsed": true
   },
   "outputs": [],
   "source": [
    "# First digit:  climatic zone   \n",
    "first_digit = { \"1\": \"lower montane dry\",\n",
    "                \"2\": \"lower montane\",          \n",
    "                \"3\": \"montane dry\",            \n",
    "                \"4\": \"montane\",                \n",
    "                \"5\": \"montane dry and montane\",\n",
    "                \"6\": \"montane and subalpine\",\n",
    "                \"7\": \"subalpine\",  \n",
    "                \"8\": \"alpine\" \n",
    "              }  \n",
    "\n",
    "# Second digit:  geologic zones\n",
    "second_digit = {\"1\": \"alluvium\",\n",
    "                \"2\": \"glacial\",\n",
    "                \"3\": \"shale\",\n",
    "                \"4\": \"sandstone\",\n",
    "                \"5\": \"mixed sedimentary\",\n",
    "                \"6\": \"unspecified in the USFS ELU Survey\", #not_in_survey\n",
    "                \"7\": \"igneous and metamorphic\",\n",
    "                \"8\": \"volcanic\"\n",
    "               }\n",
    "\n",
    "# The third and fourth ELU digits are unique to the mapping unit and \n",
    "# have no special meaning to the climatic or geologic zones."
   ]
  },
  {
   "cell_type": "markdown",
   "metadata": {},
   "source": [
    "# Transform these new features into collocations"
   ]
  },
  {
   "cell_type": "code",
   "execution_count": 10,
   "metadata": {
    "collapsed": false
   },
   "outputs": [
    {
     "data": {
      "text/plain": [
       "{'1': 'lower_montane_dry',\n",
       " '2': 'lower_montane',\n",
       " '3': 'montane_dry',\n",
       " '4': 'montane',\n",
       " '5': 'montane_dry_and_montane',\n",
       " '6': 'montane_and_subalpine',\n",
       " '7': 'subalpine',\n",
       " '8': 'alpine'}"
      ]
     },
     "execution_count": 10,
     "metadata": {},
     "output_type": "execute_result"
    }
   ],
   "source": [
    "for k, v in first_digit.items():\n",
    "    first_digit[k] = v.replace(\" \", \"_\")\n",
    "\n",
    "first_digit # here is another good example of collocations "
   ]
  },
  {
   "cell_type": "code",
   "execution_count": 11,
   "metadata": {
    "collapsed": false
   },
   "outputs": [
    {
     "data": {
      "text/plain": [
       "{'1': 'alluvium',\n",
       " '2': 'glacial',\n",
       " '3': 'shale',\n",
       " '4': 'sandstone',\n",
       " '5': 'mixed_sedimentary',\n",
       " '6': 'unspecified_in_the_USFS_ELU_Survey',\n",
       " '7': 'igneous_and_metamorphic',\n",
       " '8': 'volcanic'}"
      ]
     },
     "execution_count": 11,
     "metadata": {},
     "output_type": "execute_result"
    }
   ],
   "source": [
    "for k, v in second_digit.items():\n",
    "    second_digit[k] = v.replace(\" \", \"_\")\n",
    "    \n",
    "second_digit"
   ]
  },
  {
   "cell_type": "code",
   "execution_count": 12,
   "metadata": {
    "collapsed": true
   },
   "outputs": [],
   "source": [
    "soil_types_extend = defaultdict(str, soil_types)\n",
    "\n",
    "for k in soil_types_extend.keys():\n",
    "    climatic = \"climatic_zone_\" + first_digit.get(k[0])\n",
    "    geologic = \"geologic_zone_\" + second_digit.get(k[1])\n",
    "    soil_types_extend[k] += \" \" + climatic + \" \" + geologic"
   ]
  },
  {
   "cell_type": "markdown",
   "metadata": {},
   "source": [
    "# Repeat for Wilderness Areas"
   ]
  },
  {
   "cell_type": "code",
   "execution_count": 13,
   "metadata": {
    "collapsed": true
   },
   "outputs": [],
   "source": [
    "# The wilderness areas are\n",
    "wilderness_areas =   {'Wilderness_Area1': \"Rawah Wilderness Area\", \n",
    "                      'Wilderness_Area2': \"Neota Wilderness Area\",\n",
    "                      'Wilderness_Area3': \"Comanche Peak Wilderness Area\",\n",
    "                      'Wilderness_Area4': \"Cache la Poudre Wilderness Area\"}"
   ]
  },
  {
   "cell_type": "code",
   "execution_count": 14,
   "metadata": {
    "collapsed": false
   },
   "outputs": [
    {
     "data": {
      "text/plain": [
       "{'Wilderness_Area1': 'rawah_wilderness_area',\n",
       " 'Wilderness_Area2': 'neota_wilderness_area',\n",
       " 'Wilderness_Area3': 'comanche_peak_wilderness_area',\n",
       " 'Wilderness_Area4': 'cache_la_poudre_wilderness_area'}"
      ]
     },
     "execution_count": 14,
     "metadata": {},
     "output_type": "execute_result"
    }
   ],
   "source": [
    "for k, v in wilderness_areas.items():\n",
    "    wilderness_areas[k] = v.lower().replace(\" \", \"_\")\n",
    "\n",
    "wilderness_areas"
   ]
  },
  {
   "cell_type": "code",
   "execution_count": 15,
   "metadata": {
    "collapsed": true
   },
   "outputs": [],
   "source": [
    "# Convert the dictionaries' values into lists for transforming a categorical dataset into a text dataset  \n",
    "\n",
    "soil_cols = list(soil_types_extend.values())\n",
    "wilderness_cols = list(wilderness_areas.values())"
   ]
  },
  {
   "cell_type": "code",
   "execution_count": 16,
   "metadata": {
    "collapsed": true
   },
   "outputs": [],
   "source": [
    "# reminder as to which columns are being eliminated\n",
    "most_important_cols = ['Elevation', 'Aspect', 'Slope', 'Horizontal_Distance_To_Hydrology',\n",
    "       'Vertical_Distance_To_Hydrology', 'Horizontal_Distance_To_Roadways',\n",
    "       'Hillshade_9am', 'Hillshade_Noon', 'Hillshade_3pm',\n",
    "       'Horizontal_Distance_To_Fire_Points'] "
   ]
  },
  {
   "cell_type": "markdown",
   "metadata": {},
   "source": [
    "# Who need the most important features anyway? "
   ]
  },
  {
   "cell_type": "code",
   "execution_count": 17,
   "metadata": {
    "collapsed": false
   },
   "outputs": [
    {
     "data": {
      "text/html": [
       "<div>\n",
       "<style scoped>\n",
       "    .dataframe tbody tr th:only-of-type {\n",
       "        vertical-align: middle;\n",
       "    }\n",
       "\n",
       "    .dataframe tbody tr th {\n",
       "        vertical-align: top;\n",
       "    }\n",
       "\n",
       "    .dataframe thead th {\n",
       "        text-align: right;\n",
       "    }\n",
       "</style>\n",
       "<table border=\"1\" class=\"dataframe\">\n",
       "  <thead>\n",
       "    <tr style=\"text-align: right;\">\n",
       "      <th></th>\n",
       "      <th>rawah_wilderness_area</th>\n",
       "      <th>neota_wilderness_area</th>\n",
       "      <th>comanche_peak_wilderness_area</th>\n",
       "      <th>cache_la_poudre_wilderness_area</th>\n",
       "    </tr>\n",
       "  </thead>\n",
       "  <tbody>\n",
       "    <tr>\n",
       "      <th>19219</th>\n",
       "      <td>0.0</td>\n",
       "      <td>0.0</td>\n",
       "      <td>1.0</td>\n",
       "      <td>0.0</td>\n",
       "    </tr>\n",
       "    <tr>\n",
       "      <th>19220</th>\n",
       "      <td>0.0</td>\n",
       "      <td>0.0</td>\n",
       "      <td>1.0</td>\n",
       "      <td>0.0</td>\n",
       "    </tr>\n",
       "    <tr>\n",
       "      <th>19221</th>\n",
       "      <td>0.0</td>\n",
       "      <td>0.0</td>\n",
       "      <td>0.0</td>\n",
       "      <td>1.0</td>\n",
       "    </tr>\n",
       "    <tr>\n",
       "      <th>19222</th>\n",
       "      <td>0.0</td>\n",
       "      <td>0.0</td>\n",
       "      <td>1.0</td>\n",
       "      <td>0.0</td>\n",
       "    </tr>\n",
       "    <tr>\n",
       "      <th>19223</th>\n",
       "      <td>0.0</td>\n",
       "      <td>0.0</td>\n",
       "      <td>1.0</td>\n",
       "      <td>0.0</td>\n",
       "    </tr>\n",
       "    <tr>\n",
       "      <th>19224</th>\n",
       "      <td>0.0</td>\n",
       "      <td>0.0</td>\n",
       "      <td>0.0</td>\n",
       "      <td>1.0</td>\n",
       "    </tr>\n",
       "    <tr>\n",
       "      <th>19225</th>\n",
       "      <td>0.0</td>\n",
       "      <td>0.0</td>\n",
       "      <td>1.0</td>\n",
       "      <td>0.0</td>\n",
       "    </tr>\n",
       "    <tr>\n",
       "      <th>19226</th>\n",
       "      <td>0.0</td>\n",
       "      <td>0.0</td>\n",
       "      <td>0.0</td>\n",
       "      <td>1.0</td>\n",
       "    </tr>\n",
       "    <tr>\n",
       "      <th>19227</th>\n",
       "      <td>0.0</td>\n",
       "      <td>0.0</td>\n",
       "      <td>0.0</td>\n",
       "      <td>1.0</td>\n",
       "    </tr>\n",
       "    <tr>\n",
       "      <th>19228</th>\n",
       "      <td>0.0</td>\n",
       "      <td>0.0</td>\n",
       "      <td>0.0</td>\n",
       "      <td>1.0</td>\n",
       "    </tr>\n",
       "  </tbody>\n",
       "</table>\n",
       "</div>"
      ],
      "text/plain": [
       "       rawah_wilderness_area  neota_wilderness_area  \\\n",
       "19219                    0.0                    0.0   \n",
       "19220                    0.0                    0.0   \n",
       "19221                    0.0                    0.0   \n",
       "19222                    0.0                    0.0   \n",
       "19223                    0.0                    0.0   \n",
       "19224                    0.0                    0.0   \n",
       "19225                    0.0                    0.0   \n",
       "19226                    0.0                    0.0   \n",
       "19227                    0.0                    0.0   \n",
       "19228                    0.0                    0.0   \n",
       "\n",
       "       comanche_peak_wilderness_area  cache_la_poudre_wilderness_area  \n",
       "19219                            1.0                              0.0  \n",
       "19220                            1.0                              0.0  \n",
       "19221                            0.0                              1.0  \n",
       "19222                            1.0                              0.0  \n",
       "19223                            1.0                              0.0  \n",
       "19224                            0.0                              1.0  \n",
       "19225                            1.0                              0.0  \n",
       "19226                            0.0                              1.0  \n",
       "19227                            0.0                              1.0  \n",
       "19228                            0.0                              1.0  "
      ]
     },
     "execution_count": 17,
     "metadata": {},
     "output_type": "execute_result"
    }
   ],
   "source": [
    "# Slice out the most important features\n",
    "# First, start by transforming the wilderness areas\n",
    "wild_test = pd.DataFrame(X_res[:, 10:14], columns=wilderness_cols).tail(10)\n",
    "wild_test"
   ]
  },
  {
   "cell_type": "markdown",
   "metadata": {},
   "source": [
    "### Example of how the transformation works\n",
    "- Replace only the \"1\" values with the associated collocation"
   ]
  },
  {
   "cell_type": "code",
   "execution_count": 18,
   "metadata": {
    "collapsed": false
   },
   "outputs": [
    {
     "name": "stdout",
     "output_type": "stream",
     "text": [
      "19219      comanche_peak_wilderness_area\n",
      "19220      comanche_peak_wilderness_area\n",
      "19221    cache_la_poudre_wilderness_area\n",
      "19222      comanche_peak_wilderness_area\n",
      "19223      comanche_peak_wilderness_area\n",
      "19224    cache_la_poudre_wilderness_area\n",
      "19225      comanche_peak_wilderness_area\n",
      "19226    cache_la_poudre_wilderness_area\n",
      "19227    cache_la_poudre_wilderness_area\n",
      "19228    cache_la_poudre_wilderness_area\n",
      "dtype: object\n"
     ]
    }
   ],
   "source": [
    "print(pd.Series(wild_test.idxmax(axis=1)))"
   ]
  },
  {
   "cell_type": "markdown",
   "metadata": {},
   "source": [
    "### Rinse and repeat with the 40 soil types"
   ]
  },
  {
   "cell_type": "code",
   "execution_count": 19,
   "metadata": {
    "collapsed": false
   },
   "outputs": [
    {
     "data": {
      "text/html": [
       "<div>\n",
       "<style scoped>\n",
       "    .dataframe tbody tr th:only-of-type {\n",
       "        vertical-align: middle;\n",
       "    }\n",
       "\n",
       "    .dataframe tbody tr th {\n",
       "        vertical-align: top;\n",
       "    }\n",
       "\n",
       "    .dataframe thead th {\n",
       "        text-align: right;\n",
       "    }\n",
       "</style>\n",
       "<table border=\"1\" class=\"dataframe\">\n",
       "  <thead>\n",
       "    <tr style=\"text-align: right;\">\n",
       "      <th></th>\n",
       "      <th>cathedral_family rock_outcrop_complex extremely_stony climatic_zone_lower_montane geologic_zone_igneous_and_metamorphic</th>\n",
       "      <th>vanet ratake_families_complex very_stony climatic_zone_lower_montane geologic_zone_igneous_and_metamorphic</th>\n",
       "      <th>haploborolis rock_outcrop_complex rubbly climatic_zone_lower_montane geologic_zone_igneous_and_metamorphic</th>\n",
       "      <th>ratake_family rock_outcrop_complex rubbly climatic_zone_lower_montane geologic_zone_igneous_and_metamorphic</th>\n",
       "      <th>vanet_family rock_outcrop_complex_complex rubbly climatic_zone_lower_montane geologic_zone_igneous_and_metamorphic</th>\n",
       "      <th>vanet wetmore_families rock_outcrop_complex stony climatic_zone_lower_montane geologic_zone_igneous_and_metamorphic</th>\n",
       "      <th>gothic_family climatic_zone_montane_dry geologic_zone_mixed_sedimentary</th>\n",
       "      <th>supervisor limber_families_complex climatic_zone_montane_dry geologic_zone_mixed_sedimentary</th>\n",
       "      <th>troutville_family very_stony climatic_zone_montane geologic_zone_glacial</th>\n",
       "      <th>bullwark catamount_families rock_outcrop_complex rubbly climatic_zone_montane geologic_zone_igneous_and_metamorphic</th>\n",
       "      <th>...</th>\n",
       "      <th>leighcan catamount_families_complex extremely_stony climatic_zone_subalpine geologic_zone_igneous_and_metamorphic</th>\n",
       "      <th>catamount_family rock_outcrop leighcan_family_complex extremely_stony climatic_zone_subalpine geologic_zone_igneous_and_metamorphic</th>\n",
       "      <th>leighcan catamount_families rock_outcrop_complex extremely_stony climatic_zone_subalpine geologic_zone_igneous_and_metamorphic</th>\n",
       "      <th>cryorthents rock_land_complex extremely_stony climatic_zone_subalpine geologic_zone_igneous_and_metamorphic</th>\n",
       "      <th>cryumbrepts rock_outcrop cryaquepts_complex climatic_zone_alpine geologic_zone_igneous_and_metamorphic</th>\n",
       "      <th>bross_family rock_land cryumbrepts_complex extremely_stony climatic_zone_alpine geologic_zone_igneous_and_metamorphic</th>\n",
       "      <th>rock_outcrop cryumbrepts cryorthents_complex extremely_stony climatic_zone_alpine geologic_zone_igneous_and_metamorphic</th>\n",
       "      <th>leighcan moran_families cryaquolls_complex extremely_stony climatic_zone_alpine geologic_zone_igneous_and_metamorphic</th>\n",
       "      <th>moran_family cryorthents leighcan_family_complex extremely_stony climatic_zone_alpine geologic_zone_igneous_and_metamorphic</th>\n",
       "      <th>moran_family cryorthents rock_land_complex extremely_stony climatic_zone_alpine geologic_zone_igneous_and_metamorphic</th>\n",
       "    </tr>\n",
       "  </thead>\n",
       "  <tbody>\n",
       "    <tr>\n",
       "      <th>19219</th>\n",
       "      <td>0.0</td>\n",
       "      <td>0.0</td>\n",
       "      <td>0.0</td>\n",
       "      <td>0.0</td>\n",
       "      <td>0.0</td>\n",
       "      <td>0.0</td>\n",
       "      <td>0.0</td>\n",
       "      <td>0.0</td>\n",
       "      <td>0.0</td>\n",
       "      <td>1.0</td>\n",
       "      <td>...</td>\n",
       "      <td>0.0</td>\n",
       "      <td>0.0</td>\n",
       "      <td>0.0</td>\n",
       "      <td>0.0</td>\n",
       "      <td>0.0</td>\n",
       "      <td>0.0</td>\n",
       "      <td>0.0</td>\n",
       "      <td>0.0</td>\n",
       "      <td>0.0</td>\n",
       "      <td>0.0</td>\n",
       "    </tr>\n",
       "    <tr>\n",
       "      <th>19220</th>\n",
       "      <td>0.0</td>\n",
       "      <td>0.0</td>\n",
       "      <td>0.0</td>\n",
       "      <td>0.0</td>\n",
       "      <td>0.0</td>\n",
       "      <td>0.0</td>\n",
       "      <td>0.0</td>\n",
       "      <td>0.0</td>\n",
       "      <td>0.0</td>\n",
       "      <td>0.0</td>\n",
       "      <td>...</td>\n",
       "      <td>0.0</td>\n",
       "      <td>0.0</td>\n",
       "      <td>0.0</td>\n",
       "      <td>0.0</td>\n",
       "      <td>0.0</td>\n",
       "      <td>0.0</td>\n",
       "      <td>0.0</td>\n",
       "      <td>0.0</td>\n",
       "      <td>0.0</td>\n",
       "      <td>0.0</td>\n",
       "    </tr>\n",
       "    <tr>\n",
       "      <th>19221</th>\n",
       "      <td>0.0</td>\n",
       "      <td>0.0</td>\n",
       "      <td>0.0</td>\n",
       "      <td>0.0</td>\n",
       "      <td>0.0</td>\n",
       "      <td>0.0</td>\n",
       "      <td>0.0</td>\n",
       "      <td>0.0</td>\n",
       "      <td>0.0</td>\n",
       "      <td>1.0</td>\n",
       "      <td>...</td>\n",
       "      <td>0.0</td>\n",
       "      <td>0.0</td>\n",
       "      <td>0.0</td>\n",
       "      <td>0.0</td>\n",
       "      <td>0.0</td>\n",
       "      <td>0.0</td>\n",
       "      <td>0.0</td>\n",
       "      <td>0.0</td>\n",
       "      <td>0.0</td>\n",
       "      <td>0.0</td>\n",
       "    </tr>\n",
       "    <tr>\n",
       "      <th>19222</th>\n",
       "      <td>0.0</td>\n",
       "      <td>0.0</td>\n",
       "      <td>0.0</td>\n",
       "      <td>1.0</td>\n",
       "      <td>0.0</td>\n",
       "      <td>0.0</td>\n",
       "      <td>0.0</td>\n",
       "      <td>0.0</td>\n",
       "      <td>0.0</td>\n",
       "      <td>0.0</td>\n",
       "      <td>...</td>\n",
       "      <td>0.0</td>\n",
       "      <td>0.0</td>\n",
       "      <td>0.0</td>\n",
       "      <td>0.0</td>\n",
       "      <td>0.0</td>\n",
       "      <td>0.0</td>\n",
       "      <td>0.0</td>\n",
       "      <td>0.0</td>\n",
       "      <td>0.0</td>\n",
       "      <td>0.0</td>\n",
       "    </tr>\n",
       "    <tr>\n",
       "      <th>19223</th>\n",
       "      <td>0.0</td>\n",
       "      <td>0.0</td>\n",
       "      <td>0.0</td>\n",
       "      <td>0.0</td>\n",
       "      <td>0.0</td>\n",
       "      <td>0.0</td>\n",
       "      <td>0.0</td>\n",
       "      <td>0.0</td>\n",
       "      <td>0.0</td>\n",
       "      <td>0.0</td>\n",
       "      <td>...</td>\n",
       "      <td>0.0</td>\n",
       "      <td>0.0</td>\n",
       "      <td>0.0</td>\n",
       "      <td>0.0</td>\n",
       "      <td>0.0</td>\n",
       "      <td>0.0</td>\n",
       "      <td>0.0</td>\n",
       "      <td>0.0</td>\n",
       "      <td>0.0</td>\n",
       "      <td>0.0</td>\n",
       "    </tr>\n",
       "    <tr>\n",
       "      <th>19224</th>\n",
       "      <td>0.0</td>\n",
       "      <td>0.0</td>\n",
       "      <td>0.0</td>\n",
       "      <td>0.0</td>\n",
       "      <td>0.0</td>\n",
       "      <td>1.0</td>\n",
       "      <td>0.0</td>\n",
       "      <td>0.0</td>\n",
       "      <td>0.0</td>\n",
       "      <td>0.0</td>\n",
       "      <td>...</td>\n",
       "      <td>0.0</td>\n",
       "      <td>0.0</td>\n",
       "      <td>0.0</td>\n",
       "      <td>0.0</td>\n",
       "      <td>0.0</td>\n",
       "      <td>0.0</td>\n",
       "      <td>0.0</td>\n",
       "      <td>0.0</td>\n",
       "      <td>0.0</td>\n",
       "      <td>0.0</td>\n",
       "    </tr>\n",
       "    <tr>\n",
       "      <th>19225</th>\n",
       "      <td>0.0</td>\n",
       "      <td>0.0</td>\n",
       "      <td>0.0</td>\n",
       "      <td>0.0</td>\n",
       "      <td>0.0</td>\n",
       "      <td>0.0</td>\n",
       "      <td>0.0</td>\n",
       "      <td>0.0</td>\n",
       "      <td>0.0</td>\n",
       "      <td>1.0</td>\n",
       "      <td>...</td>\n",
       "      <td>0.0</td>\n",
       "      <td>0.0</td>\n",
       "      <td>0.0</td>\n",
       "      <td>0.0</td>\n",
       "      <td>0.0</td>\n",
       "      <td>0.0</td>\n",
       "      <td>0.0</td>\n",
       "      <td>0.0</td>\n",
       "      <td>0.0</td>\n",
       "      <td>0.0</td>\n",
       "    </tr>\n",
       "    <tr>\n",
       "      <th>19226</th>\n",
       "      <td>0.0</td>\n",
       "      <td>0.0</td>\n",
       "      <td>0.0</td>\n",
       "      <td>0.0</td>\n",
       "      <td>0.0</td>\n",
       "      <td>0.0</td>\n",
       "      <td>0.0</td>\n",
       "      <td>0.0</td>\n",
       "      <td>0.0</td>\n",
       "      <td>1.0</td>\n",
       "      <td>...</td>\n",
       "      <td>0.0</td>\n",
       "      <td>0.0</td>\n",
       "      <td>0.0</td>\n",
       "      <td>0.0</td>\n",
       "      <td>0.0</td>\n",
       "      <td>0.0</td>\n",
       "      <td>0.0</td>\n",
       "      <td>0.0</td>\n",
       "      <td>0.0</td>\n",
       "      <td>0.0</td>\n",
       "    </tr>\n",
       "    <tr>\n",
       "      <th>19227</th>\n",
       "      <td>0.0</td>\n",
       "      <td>0.0</td>\n",
       "      <td>0.0</td>\n",
       "      <td>0.0</td>\n",
       "      <td>0.0</td>\n",
       "      <td>0.0</td>\n",
       "      <td>0.0</td>\n",
       "      <td>0.0</td>\n",
       "      <td>0.0</td>\n",
       "      <td>0.0</td>\n",
       "      <td>...</td>\n",
       "      <td>0.0</td>\n",
       "      <td>0.0</td>\n",
       "      <td>0.0</td>\n",
       "      <td>0.0</td>\n",
       "      <td>0.0</td>\n",
       "      <td>0.0</td>\n",
       "      <td>0.0</td>\n",
       "      <td>0.0</td>\n",
       "      <td>0.0</td>\n",
       "      <td>0.0</td>\n",
       "    </tr>\n",
       "    <tr>\n",
       "      <th>19228</th>\n",
       "      <td>0.0</td>\n",
       "      <td>0.0</td>\n",
       "      <td>0.0</td>\n",
       "      <td>0.0</td>\n",
       "      <td>0.0</td>\n",
       "      <td>0.0</td>\n",
       "      <td>0.0</td>\n",
       "      <td>0.0</td>\n",
       "      <td>0.0</td>\n",
       "      <td>1.0</td>\n",
       "      <td>...</td>\n",
       "      <td>0.0</td>\n",
       "      <td>0.0</td>\n",
       "      <td>0.0</td>\n",
       "      <td>0.0</td>\n",
       "      <td>0.0</td>\n",
       "      <td>0.0</td>\n",
       "      <td>0.0</td>\n",
       "      <td>0.0</td>\n",
       "      <td>0.0</td>\n",
       "      <td>0.0</td>\n",
       "    </tr>\n",
       "  </tbody>\n",
       "</table>\n",
       "<p>10 rows × 40 columns</p>\n",
       "</div>"
      ],
      "text/plain": [
       "       cathedral_family rock_outcrop_complex extremely_stony climatic_zone_lower_montane geologic_zone_igneous_and_metamorphic  \\\n",
       "19219                                                0.0                                                                         \n",
       "19220                                                0.0                                                                         \n",
       "19221                                                0.0                                                                         \n",
       "19222                                                0.0                                                                         \n",
       "19223                                                0.0                                                                         \n",
       "19224                                                0.0                                                                         \n",
       "19225                                                0.0                                                                         \n",
       "19226                                                0.0                                                                         \n",
       "19227                                                0.0                                                                         \n",
       "19228                                                0.0                                                                         \n",
       "\n",
       "       vanet ratake_families_complex very_stony climatic_zone_lower_montane geologic_zone_igneous_and_metamorphic  \\\n",
       "19219                                                0.0                                                            \n",
       "19220                                                0.0                                                            \n",
       "19221                                                0.0                                                            \n",
       "19222                                                0.0                                                            \n",
       "19223                                                0.0                                                            \n",
       "19224                                                0.0                                                            \n",
       "19225                                                0.0                                                            \n",
       "19226                                                0.0                                                            \n",
       "19227                                                0.0                                                            \n",
       "19228                                                0.0                                                            \n",
       "\n",
       "       haploborolis rock_outcrop_complex rubbly climatic_zone_lower_montane geologic_zone_igneous_and_metamorphic  \\\n",
       "19219                                                0.0                                                            \n",
       "19220                                                0.0                                                            \n",
       "19221                                                0.0                                                            \n",
       "19222                                                0.0                                                            \n",
       "19223                                                0.0                                                            \n",
       "19224                                                0.0                                                            \n",
       "19225                                                0.0                                                            \n",
       "19226                                                0.0                                                            \n",
       "19227                                                0.0                                                            \n",
       "19228                                                0.0                                                            \n",
       "\n",
       "       ratake_family rock_outcrop_complex rubbly climatic_zone_lower_montane geologic_zone_igneous_and_metamorphic  \\\n",
       "19219                                                0.0                                                             \n",
       "19220                                                0.0                                                             \n",
       "19221                                                0.0                                                             \n",
       "19222                                                1.0                                                             \n",
       "19223                                                0.0                                                             \n",
       "19224                                                0.0                                                             \n",
       "19225                                                0.0                                                             \n",
       "19226                                                0.0                                                             \n",
       "19227                                                0.0                                                             \n",
       "19228                                                0.0                                                             \n",
       "\n",
       "       vanet_family rock_outcrop_complex_complex rubbly climatic_zone_lower_montane geologic_zone_igneous_and_metamorphic  \\\n",
       "19219                                                0.0                                                                    \n",
       "19220                                                0.0                                                                    \n",
       "19221                                                0.0                                                                    \n",
       "19222                                                0.0                                                                    \n",
       "19223                                                0.0                                                                    \n",
       "19224                                                0.0                                                                    \n",
       "19225                                                0.0                                                                    \n",
       "19226                                                0.0                                                                    \n",
       "19227                                                0.0                                                                    \n",
       "19228                                                0.0                                                                    \n",
       "\n",
       "       vanet wetmore_families rock_outcrop_complex stony climatic_zone_lower_montane geologic_zone_igneous_and_metamorphic  \\\n",
       "19219                                                0.0                                                                     \n",
       "19220                                                0.0                                                                     \n",
       "19221                                                0.0                                                                     \n",
       "19222                                                0.0                                                                     \n",
       "19223                                                0.0                                                                     \n",
       "19224                                                1.0                                                                     \n",
       "19225                                                0.0                                                                     \n",
       "19226                                                0.0                                                                     \n",
       "19227                                                0.0                                                                     \n",
       "19228                                                0.0                                                                     \n",
       "\n",
       "       gothic_family climatic_zone_montane_dry geologic_zone_mixed_sedimentary  \\\n",
       "19219                                                0.0                         \n",
       "19220                                                0.0                         \n",
       "19221                                                0.0                         \n",
       "19222                                                0.0                         \n",
       "19223                                                0.0                         \n",
       "19224                                                0.0                         \n",
       "19225                                                0.0                         \n",
       "19226                                                0.0                         \n",
       "19227                                                0.0                         \n",
       "19228                                                0.0                         \n",
       "\n",
       "       supervisor limber_families_complex climatic_zone_montane_dry geologic_zone_mixed_sedimentary  \\\n",
       "19219                                                0.0                                              \n",
       "19220                                                0.0                                              \n",
       "19221                                                0.0                                              \n",
       "19222                                                0.0                                              \n",
       "19223                                                0.0                                              \n",
       "19224                                                0.0                                              \n",
       "19225                                                0.0                                              \n",
       "19226                                                0.0                                              \n",
       "19227                                                0.0                                              \n",
       "19228                                                0.0                                              \n",
       "\n",
       "       troutville_family very_stony climatic_zone_montane geologic_zone_glacial  \\\n",
       "19219                                                0.0                          \n",
       "19220                                                0.0                          \n",
       "19221                                                0.0                          \n",
       "19222                                                0.0                          \n",
       "19223                                                0.0                          \n",
       "19224                                                0.0                          \n",
       "19225                                                0.0                          \n",
       "19226                                                0.0                          \n",
       "19227                                                0.0                          \n",
       "19228                                                0.0                          \n",
       "\n",
       "       bullwark catamount_families rock_outcrop_complex rubbly climatic_zone_montane geologic_zone_igneous_and_metamorphic  \\\n",
       "19219                                                1.0                                                                     \n",
       "19220                                                0.0                                                                     \n",
       "19221                                                1.0                                                                     \n",
       "19222                                                0.0                                                                     \n",
       "19223                                                0.0                                                                     \n",
       "19224                                                0.0                                                                     \n",
       "19225                                                1.0                                                                     \n",
       "19226                                                1.0                                                                     \n",
       "19227                                                0.0                                                                     \n",
       "19228                                                1.0                                                                     \n",
       "\n",
       "                                                               ...                                                            \\\n",
       "19219                                                          ...                                                             \n",
       "19220                                                          ...                                                             \n",
       "19221                                                          ...                                                             \n",
       "19222                                                          ...                                                             \n",
       "19223                                                          ...                                                             \n",
       "19224                                                          ...                                                             \n",
       "19225                                                          ...                                                             \n",
       "19226                                                          ...                                                             \n",
       "19227                                                          ...                                                             \n",
       "19228                                                          ...                                                             \n",
       "\n",
       "       leighcan catamount_families_complex extremely_stony climatic_zone_subalpine geologic_zone_igneous_and_metamorphic  \\\n",
       "19219                                                0.0                                                                   \n",
       "19220                                                0.0                                                                   \n",
       "19221                                                0.0                                                                   \n",
       "19222                                                0.0                                                                   \n",
       "19223                                                0.0                                                                   \n",
       "19224                                                0.0                                                                   \n",
       "19225                                                0.0                                                                   \n",
       "19226                                                0.0                                                                   \n",
       "19227                                                0.0                                                                   \n",
       "19228                                                0.0                                                                   \n",
       "\n",
       "       catamount_family rock_outcrop leighcan_family_complex extremely_stony climatic_zone_subalpine geologic_zone_igneous_and_metamorphic  \\\n",
       "19219                                                0.0                                                                                     \n",
       "19220                                                0.0                                                                                     \n",
       "19221                                                0.0                                                                                     \n",
       "19222                                                0.0                                                                                     \n",
       "19223                                                0.0                                                                                     \n",
       "19224                                                0.0                                                                                     \n",
       "19225                                                0.0                                                                                     \n",
       "19226                                                0.0                                                                                     \n",
       "19227                                                0.0                                                                                     \n",
       "19228                                                0.0                                                                                     \n",
       "\n",
       "       leighcan catamount_families rock_outcrop_complex extremely_stony climatic_zone_subalpine geologic_zone_igneous_and_metamorphic  \\\n",
       "19219                                                0.0                                                                                \n",
       "19220                                                0.0                                                                                \n",
       "19221                                                0.0                                                                                \n",
       "19222                                                0.0                                                                                \n",
       "19223                                                0.0                                                                                \n",
       "19224                                                0.0                                                                                \n",
       "19225                                                0.0                                                                                \n",
       "19226                                                0.0                                                                                \n",
       "19227                                                0.0                                                                                \n",
       "19228                                                0.0                                                                                \n",
       "\n",
       "       cryorthents rock_land_complex extremely_stony climatic_zone_subalpine geologic_zone_igneous_and_metamorphic  \\\n",
       "19219                                                0.0                                                             \n",
       "19220                                                0.0                                                             \n",
       "19221                                                0.0                                                             \n",
       "19222                                                0.0                                                             \n",
       "19223                                                0.0                                                             \n",
       "19224                                                0.0                                                             \n",
       "19225                                                0.0                                                             \n",
       "19226                                                0.0                                                             \n",
       "19227                                                0.0                                                             \n",
       "19228                                                0.0                                                             \n",
       "\n",
       "       cryumbrepts rock_outcrop cryaquepts_complex climatic_zone_alpine geologic_zone_igneous_and_metamorphic  \\\n",
       "19219                                                0.0                                                        \n",
       "19220                                                0.0                                                        \n",
       "19221                                                0.0                                                        \n",
       "19222                                                0.0                                                        \n",
       "19223                                                0.0                                                        \n",
       "19224                                                0.0                                                        \n",
       "19225                                                0.0                                                        \n",
       "19226                                                0.0                                                        \n",
       "19227                                                0.0                                                        \n",
       "19228                                                0.0                                                        \n",
       "\n",
       "       bross_family rock_land cryumbrepts_complex extremely_stony climatic_zone_alpine geologic_zone_igneous_and_metamorphic  \\\n",
       "19219                                                0.0                                                                       \n",
       "19220                                                0.0                                                                       \n",
       "19221                                                0.0                                                                       \n",
       "19222                                                0.0                                                                       \n",
       "19223                                                0.0                                                                       \n",
       "19224                                                0.0                                                                       \n",
       "19225                                                0.0                                                                       \n",
       "19226                                                0.0                                                                       \n",
       "19227                                                0.0                                                                       \n",
       "19228                                                0.0                                                                       \n",
       "\n",
       "       rock_outcrop cryumbrepts cryorthents_complex extremely_stony climatic_zone_alpine geologic_zone_igneous_and_metamorphic  \\\n",
       "19219                                                0.0                                                                         \n",
       "19220                                                0.0                                                                         \n",
       "19221                                                0.0                                                                         \n",
       "19222                                                0.0                                                                         \n",
       "19223                                                0.0                                                                         \n",
       "19224                                                0.0                                                                         \n",
       "19225                                                0.0                                                                         \n",
       "19226                                                0.0                                                                         \n",
       "19227                                                0.0                                                                         \n",
       "19228                                                0.0                                                                         \n",
       "\n",
       "       leighcan moran_families cryaquolls_complex extremely_stony climatic_zone_alpine geologic_zone_igneous_and_metamorphic  \\\n",
       "19219                                                0.0                                                                       \n",
       "19220                                                0.0                                                                       \n",
       "19221                                                0.0                                                                       \n",
       "19222                                                0.0                                                                       \n",
       "19223                                                0.0                                                                       \n",
       "19224                                                0.0                                                                       \n",
       "19225                                                0.0                                                                       \n",
       "19226                                                0.0                                                                       \n",
       "19227                                                0.0                                                                       \n",
       "19228                                                0.0                                                                       \n",
       "\n",
       "       moran_family cryorthents leighcan_family_complex extremely_stony climatic_zone_alpine geologic_zone_igneous_and_metamorphic  \\\n",
       "19219                                                0.0                                                                             \n",
       "19220                                                0.0                                                                             \n",
       "19221                                                0.0                                                                             \n",
       "19222                                                0.0                                                                             \n",
       "19223                                                0.0                                                                             \n",
       "19224                                                0.0                                                                             \n",
       "19225                                                0.0                                                                             \n",
       "19226                                                0.0                                                                             \n",
       "19227                                                0.0                                                                             \n",
       "19228                                                0.0                                                                             \n",
       "\n",
       "       moran_family cryorthents rock_land_complex extremely_stony climatic_zone_alpine geologic_zone_igneous_and_metamorphic  \n",
       "19219                                                0.0                                                                      \n",
       "19220                                                0.0                                                                      \n",
       "19221                                                0.0                                                                      \n",
       "19222                                                0.0                                                                      \n",
       "19223                                                0.0                                                                      \n",
       "19224                                                0.0                                                                      \n",
       "19225                                                0.0                                                                      \n",
       "19226                                                0.0                                                                      \n",
       "19227                                                0.0                                                                      \n",
       "19228                                                0.0                                                                      \n",
       "\n",
       "[10 rows x 40 columns]"
      ]
     },
     "execution_count": 19,
     "metadata": {},
     "output_type": "execute_result"
    }
   ],
   "source": [
    "soil_test = pd.DataFrame(X_res[:, 14:], columns=soil_cols).tail(10)\n",
    "soil_test"
   ]
  },
  {
   "cell_type": "code",
   "execution_count": 20,
   "metadata": {
    "collapsed": false
   },
   "outputs": [
    {
     "data": {
      "text/plain": [
       "19219    comanche_peak_wilderness_area bullwark catamou...\n",
       "19220    comanche_peak_wilderness_area gateview_family ...\n",
       "19221    cache_la_poudre_wilderness_area bullwark catam...\n",
       "19222    comanche_peak_wilderness_area ratake_family ro...\n",
       "19223    comanche_peak_wilderness_area catamount_family...\n",
       "19224    cache_la_poudre_wilderness_area vanet wetmore_...\n",
       "19225    comanche_peak_wilderness_area bullwark catamou...\n",
       "19226    cache_la_poudre_wilderness_area bullwark catam...\n",
       "19227    cache_la_poudre_wilderness_area cryaquolis cry...\n",
       "19228    cache_la_poudre_wilderness_area bullwark catam...\n",
       "dtype: object"
      ]
     },
     "execution_count": 20,
     "metadata": {},
     "output_type": "execute_result"
    }
   ],
   "source": [
    "wild_test.idxmax(axis=1) + \" \" + soil_test.idxmax(axis=1)"
   ]
  },
  {
   "cell_type": "markdown",
   "metadata": {},
   "source": [
    "# Putting it all together"
   ]
  },
  {
   "cell_type": "code",
   "execution_count": 21,
   "metadata": {
    "collapsed": false
   },
   "outputs": [],
   "source": [
    "wild_df = pd.DataFrame(X_res[:, 10:14], columns=wilderness_cols)\n",
    "\n",
    "soil_df = pd.DataFrame(X_res[:, 14:], columns=soil_cols)\n",
    "\n",
    "X_wild_soil = wild_df.idxmax(axis=1) + \" \" + soil_df.idxmax(axis=1)"
   ]
  },
  {
   "cell_type": "markdown",
   "metadata": {},
   "source": [
    "### Example of what one datapoint look like\n",
    "- The beautiful 54 features have been reduced to 5. \n",
    "- Note that without the additional features I created, there would only be 3 features. "
   ]
  },
  {
   "cell_type": "code",
   "execution_count": 22,
   "metadata": {
    "collapsed": false
   },
   "outputs": [
    {
     "data": {
      "text/plain": [
       "'cache_la_poudre_wilderness_area gateview_family cryaquolis_complex climatic_zone_montane_and_subalpine geologic_zone_alluvium'"
      ]
     },
     "execution_count": 22,
     "metadata": {},
     "output_type": "execute_result"
    }
   ],
   "source": [
    "X_wild_soil[0]"
   ]
  },
  {
   "cell_type": "markdown",
   "metadata": {},
   "source": [
    "### From 54 features ---> 5\n",
    "### We can call this dimensionality reduction, right???"
   ]
  },
  {
   "cell_type": "code",
   "execution_count": 23,
   "metadata": {
    "collapsed": false
   },
   "outputs": [
    {
     "data": {
      "text/html": [
       "<div>\n",
       "<style scoped>\n",
       "    .dataframe tbody tr th:only-of-type {\n",
       "        vertical-align: middle;\n",
       "    }\n",
       "\n",
       "    .dataframe tbody tr th {\n",
       "        vertical-align: top;\n",
       "    }\n",
       "\n",
       "    .dataframe thead th {\n",
       "        text-align: right;\n",
       "    }\n",
       "</style>\n",
       "<table border=\"1\" class=\"dataframe\">\n",
       "  <thead>\n",
       "    <tr style=\"text-align: right;\">\n",
       "      <th></th>\n",
       "      <th>soil_type</th>\n",
       "      <th>wild_soil</th>\n",
       "    </tr>\n",
       "  </thead>\n",
       "  <tbody>\n",
       "    <tr>\n",
       "      <th>0</th>\n",
       "      <td>4</td>\n",
       "      <td>cache_la_poudre_wilderness_area gateview_famil...</td>\n",
       "    </tr>\n",
       "    <tr>\n",
       "      <th>1</th>\n",
       "      <td>4</td>\n",
       "      <td>cache_la_poudre_wilderness_area gateview_famil...</td>\n",
       "    </tr>\n",
       "    <tr>\n",
       "      <th>2</th>\n",
       "      <td>4</td>\n",
       "      <td>cache_la_poudre_wilderness_area gateview_famil...</td>\n",
       "    </tr>\n",
       "    <tr>\n",
       "      <th>3</th>\n",
       "      <td>4</td>\n",
       "      <td>cache_la_poudre_wilderness_area gateview_famil...</td>\n",
       "    </tr>\n",
       "    <tr>\n",
       "      <th>4</th>\n",
       "      <td>4</td>\n",
       "      <td>cache_la_poudre_wilderness_area gateview_famil...</td>\n",
       "    </tr>\n",
       "  </tbody>\n",
       "</table>\n",
       "</div>"
      ],
      "text/plain": [
       "   soil_type                                          wild_soil\n",
       "0          4  cache_la_poudre_wilderness_area gateview_famil...\n",
       "1          4  cache_la_poudre_wilderness_area gateview_famil...\n",
       "2          4  cache_la_poudre_wilderness_area gateview_famil...\n",
       "3          4  cache_la_poudre_wilderness_area gateview_famil...\n",
       "4          4  cache_la_poudre_wilderness_area gateview_famil..."
      ]
     },
     "execution_count": 23,
     "metadata": {},
     "output_type": "execute_result"
    }
   ],
   "source": [
    "targets_res = pd.Series(y_res) #targets from random undersampler \n",
    "X_wild_soil_w_targets = pd.DataFrame({\"wild_soil\": X_wild_soil, \"soil_type\":targets_res})\n",
    "X_wild_soil_w_targets.head()"
   ]
  },
  {
   "cell_type": "markdown",
   "metadata": {},
   "source": [
    "# Save the new feature matrix for future exploration"
   ]
  },
  {
   "cell_type": "code",
   "execution_count": 24,
   "metadata": {
    "collapsed": true
   },
   "outputs": [],
   "source": [
    "X_wild_soil_w_targets.to_csv(\"collocation_df.csv\")"
   ]
  }
 ],
 "metadata": {
  "kernelspec": {
   "display_name": "Python [default]",
   "language": "python",
   "name": "python3"
  },
  "language_info": {
   "codemirror_mode": {
    "name": "ipython",
    "version": 3
   },
   "file_extension": ".py",
   "mimetype": "text/x-python",
   "name": "python",
   "nbconvert_exporter": "python",
   "pygments_lexer": "ipython3",
   "version": "3.6.0"
  }
 },
 "nbformat": 4,
 "nbformat_minor": 2
}
