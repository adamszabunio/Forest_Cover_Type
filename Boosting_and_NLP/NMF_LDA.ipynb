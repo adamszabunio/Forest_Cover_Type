{
 "cells": [
  {
   "cell_type": "code",
   "execution_count": 1,
   "metadata": {
    "collapsed": true
   },
   "outputs": [],
   "source": [
    "from collections import defaultdict, Counter\n",
    "import pandas as pd\n",
    "import numpy as np\n",
    "from sklearn.feature_extraction.text import CountVectorizer, TfidfVectorizer\n",
    "from sklearn.decomposition.online_lda import LatentDirichletAllocation\n",
    "from sklearn.decomposition import NMF \n",
    "import matplotlib.pyplot as plt\n",
    "plt.style.use('seaborn')\n",
    "%matplotlib inline"
   ]
  },
  {
   "cell_type": "markdown",
   "metadata": {},
   "source": [
    "### Load in the collocation dataset created in feature_reduction.ipynb"
   ]
  },
  {
   "cell_type": "code",
   "execution_count": 2,
   "metadata": {
    "collapsed": false
   },
   "outputs": [
    {
     "data": {
      "text/html": [
       "<div>\n",
       "<style scoped>\n",
       "    .dataframe tbody tr th:only-of-type {\n",
       "        vertical-align: middle;\n",
       "    }\n",
       "\n",
       "    .dataframe tbody tr th {\n",
       "        vertical-align: top;\n",
       "    }\n",
       "\n",
       "    .dataframe thead th {\n",
       "        text-align: right;\n",
       "    }\n",
       "</style>\n",
       "<table border=\"1\" class=\"dataframe\">\n",
       "  <thead>\n",
       "    <tr style=\"text-align: right;\">\n",
       "      <th></th>\n",
       "      <th>soil_type</th>\n",
       "      <th>wild_soil</th>\n",
       "    </tr>\n",
       "  </thead>\n",
       "  <tbody>\n",
       "    <tr>\n",
       "      <th>0</th>\n",
       "      <td>4</td>\n",
       "      <td>cache_la_poudre_wilderness_area gateview_famil...</td>\n",
       "    </tr>\n",
       "    <tr>\n",
       "      <th>1</th>\n",
       "      <td>4</td>\n",
       "      <td>cache_la_poudre_wilderness_area gateview_famil...</td>\n",
       "    </tr>\n",
       "    <tr>\n",
       "      <th>2</th>\n",
       "      <td>4</td>\n",
       "      <td>cache_la_poudre_wilderness_area gateview_famil...</td>\n",
       "    </tr>\n",
       "    <tr>\n",
       "      <th>3</th>\n",
       "      <td>4</td>\n",
       "      <td>cache_la_poudre_wilderness_area gateview_famil...</td>\n",
       "    </tr>\n",
       "    <tr>\n",
       "      <th>4</th>\n",
       "      <td>4</td>\n",
       "      <td>cache_la_poudre_wilderness_area gateview_famil...</td>\n",
       "    </tr>\n",
       "  </tbody>\n",
       "</table>\n",
       "</div>"
      ],
      "text/plain": [
       "   soil_type                                          wild_soil\n",
       "0          4  cache_la_poudre_wilderness_area gateview_famil...\n",
       "1          4  cache_la_poudre_wilderness_area gateview_famil...\n",
       "2          4  cache_la_poudre_wilderness_area gateview_famil...\n",
       "3          4  cache_la_poudre_wilderness_area gateview_famil...\n",
       "4          4  cache_la_poudre_wilderness_area gateview_famil..."
      ]
     },
     "execution_count": 2,
     "metadata": {},
     "output_type": "execute_result"
    }
   ],
   "source": [
    "X_wild_soil_w_targets = pd.read_csv(\"collocation_df.csv\", index_col=0)\n",
    "\n",
    "X_wild_soil_w_targets.head()"
   ]
  },
  {
   "cell_type": "markdown",
   "metadata": {},
   "source": [
    "### How many total features are there and what are their respective counts per soil type?"
   ]
  },
  {
   "cell_type": "code",
   "execution_count": 3,
   "metadata": {
    "collapsed": false
   },
   "outputs": [
    {
     "name": "stdout",
     "output_type": "stream",
     "text": [
      "Soil Type 1:\n",
      "Unique words in Soil Type 1 vocabulary: 53\n",
      "Top 10 words in Soil Type 1: ['climatic_zone_subalpine', 'geologic_zone_igneous_and_metamorphic', 'extremely_stony', 'rawah_wilderness_area', 'comanche_peak_wilderness_area', 'leighcan_family', 'geologic_zone_glacial', 'till_substratum', 'como', 'legault_families_complex'] \n",
      "\n",
      "Soil Type 2:\n",
      "Unique words in Soil Type 2 vocabulary: 63\n",
      "Top 10 words in Soil Type 2: ['geologic_zone_igneous_and_metamorphic', 'climatic_zone_subalpine', 'extremely_stony', 'rawah_wilderness_area', 'comanche_peak_wilderness_area', 'como', 'legault_families_complex', 'climatic_zone_montane', 'catamount_families', 'rock_outcrop_complex'] \n",
      "\n",
      "Soil Type 3:\n",
      "Unique words in Soil Type 3 vocabulary: 36\n",
      "Top 10 words in Soil Type 3: ['geologic_zone_igneous_and_metamorphic', 'rock_outcrop_complex', 'rubbly', 'climatic_zone_lower_montane', 'cache_la_poudre_wilderness_area', 'comanche_peak_wilderness_area', 'climatic_zone_montane', 'bullwark', 'catamount_families', 'vanet'] \n",
      "\n",
      "Soil Type 4:\n",
      "Unique words in Soil Type 4 vocabulary: 29\n",
      "Top 10 words in Soil Type 4: ['cache_la_poudre_wilderness_area', 'geologic_zone_igneous_and_metamorphic', 'rock_outcrop_complex', 'climatic_zone_lower_montane', 'rubbly', 'haploborolis', 'geologic_zone_alluvium', 'climatic_zone_montane_and_subalpine', 'gateview_family', 'cryaquolis_complex'] \n",
      "\n",
      "Soil Type 5:\n",
      "Unique words in Soil Type 5 vocabulary: 43\n",
      "Top 10 words in Soil Type 5: ['geologic_zone_igneous_and_metamorphic', 'comanche_peak_wilderness_area', 'climatic_zone_subalpine', 'extremely_stony', 'rawah_wilderness_area', 'rock_land', 'rubbly', 'climatic_zone_montane', 'como_family', 'legault_family_complex'] \n",
      "\n",
      "Soil Type 6:\n",
      "Unique words in Soil Type 6 vocabulary: 44\n",
      "Top 10 words in Soil Type 6: ['geologic_zone_igneous_and_metamorphic', 'rock_outcrop_complex', 'rubbly', 'catamount_families', 'climatic_zone_montane', 'cache_la_poudre_wilderness_area', 'bullwark', 'comanche_peak_wilderness_area', 'climatic_zone_lower_montane', 'vanet'] \n",
      "\n",
      "Soil Type 7:\n",
      "Unique words in Soil Type 7 vocabulary: 41\n",
      "Top 10 words in Soil Type 7: ['geologic_zone_igneous_and_metamorphic', 'extremely_stony', 'climatic_zone_alpine', 'comanche_peak_wilderness_area', 'cryorthents', 'moran_family', 'leighcan', 'leighcan_family_complex', 'moran_families', 'cryaquolls_complex'] \n",
      "\n"
     ]
    }
   ],
   "source": [
    "# inspecting by each soil type\n",
    "soil_CountVect = dict()\n",
    "for i in range(1, 8): \n",
    "    print(\"Soil Type {}:\".format(i))\n",
    "    query = X_wild_soil_w_targets.query(\"soil_type == {}\".format(i))[\"wild_soil\"]\n",
    "    temp_counter = Counter()\n",
    "    for row in query:\n",
    "        words = list(row.split(\" \"))\n",
    "        temp_counter.update(words)\n",
    "    top_10 = [i[0] for i in temp_counter.most_common(10)]\n",
    "    print(\"Unique words in Soil Type {} vocabulary: {}\".format(i, len(temp_counter)))\n",
    "    print(\"Top 10 words in Soil Type {}: {} \\n\".format(i, top_10))        \n",
    "    soil_CountVect[\"Soil Type {}:\".format(i)] = \", \".join(top_10)"
   ]
  },
  {
   "cell_type": "code",
   "execution_count": 4,
   "metadata": {
    "collapsed": false
   },
   "outputs": [
    {
     "data": {
      "text/plain": [
       "((19229, 74), set())"
      ]
     },
     "execution_count": 4,
     "metadata": {},
     "output_type": "execute_result"
    }
   ],
   "source": [
    "X_wild_soil = X_wild_soil_w_targets.wild_soil.copy() # only keep features\n",
    "# CountVectorizer for entire dataset\n",
    "min_df = 1 \n",
    "max_df = 0.95  \n",
    "max_features = 100\n",
    "vectorizer = CountVectorizer(max_features=max_features, max_df=max_df, min_df=min_df)\n",
    "\n",
    "vectorized = vectorizer.fit_transform(X_wild_soil)\n",
    "vectorized.shape, vectorizer.stop_words_"
   ]
  },
  {
   "cell_type": "code",
   "execution_count": 5,
   "metadata": {
    "collapsed": false
   },
   "outputs": [
    {
     "data": {
      "text/plain": [
       "['aquolis_complex',\n",
       " 'borohemists_complex',\n",
       " 'bross_family',\n",
       " 'bullwark',\n",
       " 'bullwark_family_complex',\n",
       " 'cache_la_poudre_wilderness_area',\n",
       " 'catamount_families',\n",
       " 'catamount_families_complex',\n",
       " 'catamount_family',\n",
       " 'cathedral_family',\n",
       " 'climatic_zone_alpine',\n",
       " 'climatic_zone_lower_montane',\n",
       " 'climatic_zone_montane',\n",
       " 'climatic_zone_montane_and_subalpine',\n",
       " 'climatic_zone_montane_dry',\n",
       " 'climatic_zone_montane_dry_and_montane',\n",
       " 'climatic_zone_subalpine',\n",
       " 'comanche_peak_wilderness_area',\n",
       " 'como',\n",
       " 'como_family',\n",
       " 'cryaquepts_complex',\n",
       " 'cryaquolis',\n",
       " 'cryaquolis_complex',\n",
       " 'cryaquolls_complex',\n",
       " 'cryoborolis_complex',\n",
       " 'cryorthents',\n",
       " 'cryorthents_complex',\n",
       " 'cryumbrepts',\n",
       " 'cryumbrepts_complex',\n",
       " 'extremely_bouldery',\n",
       " 'extremely_stony',\n",
       " 'gateview_family',\n",
       " 'geologic_zone_alluvium',\n",
       " 'geologic_zone_glacial',\n",
       " 'geologic_zone_igneous_and_metamorphic',\n",
       " 'geologic_zone_mixed_sedimentary',\n",
       " 'gothic_family',\n",
       " 'granile',\n",
       " 'haploborolis',\n",
       " 'legault_families_complex',\n",
       " 'legault_family',\n",
       " 'legault_family_complex',\n",
       " 'leighcan',\n",
       " 'leighcan_family',\n",
       " 'leighcan_family_complex',\n",
       " 'limber_families_complex',\n",
       " 'moran_families',\n",
       " 'moran_family',\n",
       " 'neota_wilderness_area',\n",
       " 'pachic_argiborolis',\n",
       " 'ratake_families_complex',\n",
       " 'ratake_family',\n",
       " 'rawah_wilderness_area',\n",
       " 'rock_land',\n",
       " 'rock_land_complex',\n",
       " 'rock_outcrop',\n",
       " 'rock_outcrop_complex',\n",
       " 'rock_outcrop_complex_complex',\n",
       " 'rogert_family',\n",
       " 'rubbly',\n",
       " 'stony',\n",
       " 'supervisor',\n",
       " 'till_substratum',\n",
       " 'till_substratum_complex',\n",
       " 'troutville_family',\n",
       " 'typic_cryaquepts',\n",
       " 'typic_cryaquolis',\n",
       " 'typic_cryaquolls',\n",
       " 'typic_cryaquolls_complex',\n",
       " 'vanet',\n",
       " 'vanet_family',\n",
       " 'very_stony',\n",
       " 'warm',\n",
       " 'wetmore_families']"
      ]
     },
     "execution_count": 5,
     "metadata": {},
     "output_type": "execute_result"
    }
   ],
   "source": [
    "vectorizer.get_feature_names()"
   ]
  },
  {
   "cell_type": "markdown",
   "metadata": {},
   "source": [
    "### A whopping total vocubulary of 74"
   ]
  },
  {
   "cell_type": "code",
   "execution_count": 6,
   "metadata": {
    "collapsed": false
   },
   "outputs": [
    {
     "data": {
      "text/plain": [
       "74"
      ]
     },
     "execution_count": 6,
     "metadata": {},
     "output_type": "execute_result"
    }
   ],
   "source": [
    "len(vectorizer.get_feature_names())"
   ]
  },
  {
   "cell_type": "markdown",
   "metadata": {},
   "source": [
    "# Topic Modeling\n",
    "### NMF (Non-Negative Matrix Factorization) "
   ]
  },
  {
   "cell_type": "code",
   "execution_count": 7,
   "metadata": {
    "collapsed": false
   },
   "outputs": [
    {
     "data": {
      "text/plain": [
       "((19229, 7), (7, 74))"
      ]
     },
     "execution_count": 7,
     "metadata": {},
     "output_type": "execute_result"
    }
   ],
   "source": [
    "model = NMF(init=\"nndsvd\",\n",
    "            n_components=7,\n",
    "            max_iter=200)\n",
    "\n",
    "W = model.fit_transform(vectorized)\n",
    "H = model.components_\n",
    "\n",
    "W.shape, H.shape"
   ]
  },
  {
   "cell_type": "code",
   "execution_count": 8,
   "metadata": {
    "collapsed": true
   },
   "outputs": [],
   "source": [
    "terms = [\"\"] * len(vectorizer.vocabulary_)\n",
    "for term in vectorizer.vocabulary_.keys():\n",
    "    terms[vectorizer.vocabulary_[term]] = term"
   ]
  },
  {
   "cell_type": "markdown",
   "metadata": {},
   "source": [
    "### Create 7 Topics from the dataset"
   ]
  },
  {
   "cell_type": "code",
   "execution_count": 9,
   "metadata": {
    "collapsed": false
   },
   "outputs": [
    {
     "name": "stdout",
     "output_type": "stream",
     "text": [
      "Soil Topic 1: climatic_zone_montane, rubbly, catamount_families, bullwark, geologic_zone_igneous_and_metamorphic, rock_outcrop_complex, cache_la_poudre_wilderness_area, rock_land_complex, comanche_peak_wilderness_area, rock_land \n",
      "\n",
      "Soil Topic 2: comanche_peak_wilderness_area, geologic_zone_igneous_and_metamorphic, climatic_zone_subalpine, catamount_family, extremely_stony, leighcan, rock_outcrop, leighcan_family_complex, bullwark_family_complex, rubbly \n",
      "\n",
      "Soil Topic 3: climatic_zone_lower_montane, geologic_zone_igneous_and_metamorphic, rock_outcrop_complex, cache_la_poudre_wilderness_area, rubbly, vanet, haploborolis, stony, wetmore_families, ratake_family \n",
      "\n",
      "Soil Topic 4: extremely_stony, climatic_zone_subalpine, geologic_zone_igneous_and_metamorphic, rawah_wilderness_area, como, legault_families_complex, como_family, legault_family_complex, rock_land, leighcan \n",
      "\n",
      "Soil Topic 5: leighcan_family, geologic_zone_glacial, till_substratum, climatic_zone_subalpine, typic_cryaquolls_complex, rawah_wilderness_area, extremely_bouldery, comanche_peak_wilderness_area, neota_wilderness_area, typic_cryaquepts \n",
      "\n",
      "Soil Topic 6: geologic_zone_alluvium, climatic_zone_montane_and_subalpine, gateview_family, cryaquolis_complex, cache_la_poudre_wilderness_area, comanche_peak_wilderness_area, climatic_zone_montane_dry_and_montane, pachic_argiborolis, aquolis_complex, cryaquolis \n",
      "\n",
      "Soil Topic 7: climatic_zone_alpine, extremely_stony, geologic_zone_igneous_and_metamorphic, cryorthents, moran_family, cryaquolls_complex, moran_families, leighcan, leighcan_family_complex, rock_land_complex \n",
      "\n"
     ]
    }
   ],
   "source": [
    "for topic_index in range(H.shape[0]):\n",
    "    top_indicies = np.argsort(H[topic_index, :])[::-1][0:10]\n",
    "    term_ranking = [terms[i] for i in top_indicies]\n",
    "    print(\"Soil Topic {}: {} \\n\".format(topic_index+1, \", \".join(term_ranking)))"
   ]
  },
  {
   "cell_type": "markdown",
   "metadata": {},
   "source": [
    "### How do they compare to the actual classes/topics?\n",
    "- In terms of most common occuring words"
   ]
  },
  {
   "cell_type": "code",
   "execution_count": 10,
   "metadata": {
    "collapsed": false
   },
   "outputs": [
    {
     "name": "stdout",
     "output_type": "stream",
     "text": [
      "Soil Type 1: climatic_zone_subalpine, geologic_zone_igneous_and_metamorphic, extremely_stony, rawah_wilderness_area, comanche_peak_wilderness_area, leighcan_family, geologic_zone_glacial, till_substratum, como, legault_families_complex\n",
      "\n",
      "Soil Type 2: geologic_zone_igneous_and_metamorphic, climatic_zone_subalpine, extremely_stony, rawah_wilderness_area, comanche_peak_wilderness_area, como, legault_families_complex, climatic_zone_montane, catamount_families, rock_outcrop_complex\n",
      "\n",
      "Soil Type 3: geologic_zone_igneous_and_metamorphic, rock_outcrop_complex, rubbly, climatic_zone_lower_montane, cache_la_poudre_wilderness_area, comanche_peak_wilderness_area, climatic_zone_montane, bullwark, catamount_families, vanet\n",
      "\n",
      "Soil Type 4: cache_la_poudre_wilderness_area, geologic_zone_igneous_and_metamorphic, rock_outcrop_complex, climatic_zone_lower_montane, rubbly, haploborolis, geologic_zone_alluvium, climatic_zone_montane_and_subalpine, gateview_family, cryaquolis_complex\n",
      "\n",
      "Soil Type 5: geologic_zone_igneous_and_metamorphic, comanche_peak_wilderness_area, climatic_zone_subalpine, extremely_stony, rawah_wilderness_area, rock_land, rubbly, climatic_zone_montane, como_family, legault_family_complex\n",
      "\n",
      "Soil Type 6: geologic_zone_igneous_and_metamorphic, rock_outcrop_complex, rubbly, catamount_families, climatic_zone_montane, cache_la_poudre_wilderness_area, bullwark, comanche_peak_wilderness_area, climatic_zone_lower_montane, vanet\n",
      "\n",
      "Soil Type 7: geologic_zone_igneous_and_metamorphic, extremely_stony, climatic_zone_alpine, comanche_peak_wilderness_area, cryorthents, moran_family, leighcan, leighcan_family_complex, moran_families, cryaquolls_complex\n",
      "\n"
     ]
    }
   ],
   "source": [
    "for k, v in soil_CountVect.items():\n",
    "    v_str = v\n",
    "    print(k, v_str)\n",
    "    print(\"\")"
   ]
  },
  {
   "cell_type": "markdown",
   "metadata": {},
   "source": [
    "### Hard to tell from initial inspection\n",
    "\n",
    "### For completeness, lets try a TfidfVectorizer (Term Frequency Inverse Document Frequency Vectorizer)"
   ]
  },
  {
   "cell_type": "code",
   "execution_count": 11,
   "metadata": {
    "collapsed": false
   },
   "outputs": [
    {
     "data": {
      "text/plain": [
       "((19229, 74), set())"
      ]
     },
     "execution_count": 11,
     "metadata": {},
     "output_type": "execute_result"
    }
   ],
   "source": [
    "min_df = 1\n",
    "max_df = 0.95 \n",
    "max_features = 100 # not a problem here... soil + wilderness has a max of 70 feats\n",
    "\n",
    "tfidf_vec = TfidfVectorizer(max_features=max_features, max_df=max_df, min_df=min_df)\n",
    "\n",
    "tfidf_vecD = tfidf_vec.fit_transform(X_wild_soil)\n",
    "tfidf_vecD.shape, tfidf_vec.stop_words_"
   ]
  },
  {
   "cell_type": "code",
   "execution_count": 12,
   "metadata": {
    "collapsed": true
   },
   "outputs": [],
   "source": [
    "terms = [\"\"] * len(tfidf_vec.vocabulary_)\n",
    "for term in tfidf_vec.vocabulary_.keys():\n",
    "    terms[tfidf_vec.vocabulary_[term]] = term"
   ]
  },
  {
   "cell_type": "code",
   "execution_count": 13,
   "metadata": {
    "collapsed": false
   },
   "outputs": [
    {
     "data": {
      "text/plain": [
       "((19229, 7), (7, 74))"
      ]
     },
     "execution_count": 13,
     "metadata": {},
     "output_type": "execute_result"
    }
   ],
   "source": [
    "model_tfidf = NMF(init=\"nndsvd\",\n",
    "                n_components=7,\n",
    "                max_iter=200)\n",
    "\n",
    "W_tfidf = model_tfidf.fit_transform(tfidf_vecD)\n",
    "H_tfidf = model_tfidf.components_\n",
    "\n",
    "W_tfidf.shape, H_tfidf.shape"
   ]
  },
  {
   "cell_type": "code",
   "execution_count": 14,
   "metadata": {
    "collapsed": false
   },
   "outputs": [
    {
     "name": "stdout",
     "output_type": "stream",
     "text": [
      "Soil Type 1: bullwark, catamount_families, climatic_zone_montane, rubbly, rock_outcrop_complex, cache_la_poudre_wilderness_area, geologic_zone_igneous_and_metamorphic, comanche_peak_wilderness_area, rock_land_complex, bullwark_family_complex\n",
      "\n",
      "Soil Type 2: como, legault_families_complex, rawah_wilderness_area, climatic_zone_subalpine, extremely_stony, geologic_zone_igneous_and_metamorphic, leighcan, cathedral_family, catamount_families_complex, catamount_families\n",
      "\n",
      "Soil Type 3: climatic_zone_lower_montane, rock_outcrop_complex, cache_la_poudre_wilderness_area, haploborolis, rubbly, geologic_zone_igneous_and_metamorphic, ratake_family, vanet, wetmore_families, stony\n",
      "\n",
      "Soil Type 4: climatic_zone_alpine, extremely_stony, leighcan, comanche_peak_wilderness_area, cryorthents, moran_family, leighcan_family_complex, geologic_zone_igneous_and_metamorphic, moran_families, cryaquolls_complex\n",
      "\n",
      "Soil Type 5: leighcan_family, till_substratum, geologic_zone_glacial, typic_cryaquolls_complex, climatic_zone_subalpine, extremely_bouldery, comanche_peak_wilderness_area, rawah_wilderness_area, neota_wilderness_area, typic_cryaquepts\n",
      "\n",
      "Soil Type 6: rock_land, legault_family_complex, como_family, catamount_family, climatic_zone_subalpine, rawah_wilderness_area, extremely_stony, bullwark_family_complex, geologic_zone_igneous_and_metamorphic, rock_outcrop\n",
      "\n",
      "Soil Type 7: geologic_zone_alluvium, climatic_zone_montane_and_subalpine, gateview_family, cryaquolis_complex, cache_la_poudre_wilderness_area, comanche_peak_wilderness_area, cryoborolis_complex, cryaquolis, pachic_argiborolis, aquolis_complex\n",
      "\n"
     ]
    }
   ],
   "source": [
    "for topic_index in range(H_tfidf.shape[0]):\n",
    "    top_indices = np.argsort(H_tfidf[topic_index,:])[::-1][0:10]\n",
    "    term_ranking = [terms[i] for i in top_indices]\n",
    "    print(\"Soil Type {}: {}\\n\".format(topic_index+1, \", \".join(term_ranking)))"
   ]
  },
  {
   "cell_type": "code",
   "execution_count": 15,
   "metadata": {
    "collapsed": false
   },
   "outputs": [
    {
     "name": "stdout",
     "output_type": "stream",
     "text": [
      "Soil Type 1: climatic_zone_subalpine, geologic_zone_igneous_and_metamorphic, extremely_stony, rawah_wilderness_area, comanche_peak_wilderness_area, leighcan_family, geologic_zone_glacial, till_substratum, como, legault_families_complex\n",
      "\n",
      "Soil Type 2: geologic_zone_igneous_and_metamorphic, climatic_zone_subalpine, extremely_stony, rawah_wilderness_area, comanche_peak_wilderness_area, como, legault_families_complex, climatic_zone_montane, catamount_families, rock_outcrop_complex\n",
      "\n",
      "Soil Type 3: geologic_zone_igneous_and_metamorphic, rock_outcrop_complex, rubbly, climatic_zone_lower_montane, cache_la_poudre_wilderness_area, comanche_peak_wilderness_area, climatic_zone_montane, bullwark, catamount_families, vanet\n",
      "\n",
      "Soil Type 4: cache_la_poudre_wilderness_area, geologic_zone_igneous_and_metamorphic, rock_outcrop_complex, climatic_zone_lower_montane, rubbly, haploborolis, geologic_zone_alluvium, climatic_zone_montane_and_subalpine, gateview_family, cryaquolis_complex\n",
      "\n",
      "Soil Type 5: geologic_zone_igneous_and_metamorphic, comanche_peak_wilderness_area, climatic_zone_subalpine, extremely_stony, rawah_wilderness_area, rock_land, rubbly, climatic_zone_montane, como_family, legault_family_complex\n",
      "\n",
      "Soil Type 6: geologic_zone_igneous_and_metamorphic, rock_outcrop_complex, rubbly, catamount_families, climatic_zone_montane, cache_la_poudre_wilderness_area, bullwark, comanche_peak_wilderness_area, climatic_zone_lower_montane, vanet\n",
      "\n",
      "Soil Type 7: geologic_zone_igneous_and_metamorphic, extremely_stony, climatic_zone_alpine, comanche_peak_wilderness_area, cryorthents, moran_family, leighcan, leighcan_family_complex, moran_families, cryaquolls_complex\n",
      "\n"
     ]
    }
   ],
   "source": [
    "for k, v in soil_CountVect.items():\n",
    "    v_str = v\n",
    "    print(k, v_str)\n",
    "    print(\"\")"
   ]
  },
  {
   "cell_type": "markdown",
   "metadata": {},
   "source": [
    "### Not too much of a difference\n",
    "\n",
    "### LDA (Latent Dirichlet Allocation) is another popular Topic Modeling approach"
   ]
  },
  {
   "cell_type": "code",
   "execution_count": 16,
   "metadata": {
    "collapsed": false
   },
   "outputs": [],
   "source": [
    "lda = LatentDirichletAllocation(n_components=7,\n",
    "                                max_iter=5,\n",
    "                                learning_method='online',\n",
    "                                learning_offset=50,\n",
    "                                random_state=42)"
   ]
  },
  {
   "cell_type": "code",
   "execution_count": 17,
   "metadata": {
    "collapsed": false
   },
   "outputs": [
    {
     "data": {
      "text/plain": [
       "LatentDirichletAllocation(batch_size=128, doc_topic_prior=None,\n",
       "             evaluate_every=-1, learning_decay=0.7,\n",
       "             learning_method='online', learning_offset=50,\n",
       "             max_doc_update_iter=100, max_iter=5, mean_change_tol=0.001,\n",
       "             n_components=7, n_jobs=1, n_topics=None, perp_tol=0.1,\n",
       "             random_state=42, topic_word_prior=None,\n",
       "             total_samples=1000000.0, verbose=0)"
      ]
     },
     "execution_count": 17,
     "metadata": {},
     "output_type": "execute_result"
    }
   ],
   "source": [
    "lda.fit(tfidf_vecD)"
   ]
  },
  {
   "cell_type": "code",
   "execution_count": 18,
   "metadata": {
    "collapsed": false,
    "scrolled": false
   },
   "outputs": [
    {
     "name": "stdout",
     "output_type": "stream",
     "text": [
      "Topic 1: extremely_stony, climatic_zone_subalpine, leighcan, rawah_wilderness_area, comanche_peak_wilderness_area, geologic_zone_igneous_and_metamorphic, leighcan_family_complex, como, legault_families_complex, leighcan_family\n",
      "\n",
      "Topic 2: geologic_zone_alluvium, climatic_zone_montane_and_subalpine, cryaquolis_complex, gateview_family, cache_la_poudre_wilderness_area, comanche_peak_wilderness_area, till_substratum_complex, typic_cryaquolls, cryumbrepts_complex, bross_family\n",
      "\n",
      "Topic 3: catamount_families, climatic_zone_montane, bullwark, rubbly, rock_outcrop_complex, geologic_zone_igneous_and_metamorphic, cache_la_poudre_wilderness_area, cryorthents, comanche_peak_wilderness_area, rock_land_complex\n",
      "\n",
      "Topic 4: ratake_family, climatic_zone_lower_montane, rock_outcrop_complex, rubbly, comanche_peak_wilderness_area, cathedral_family, geologic_zone_igneous_and_metamorphic, cache_la_poudre_wilderness_area, extremely_stony, aquolis_complex\n",
      "\n",
      "Topic 5: haploborolis, climatic_zone_lower_montane, rubbly, cache_la_poudre_wilderness_area, rock_outcrop_complex, geologic_zone_igneous_and_metamorphic, rock_outcrop_complex_complex, vanet_family, comanche_peak_wilderness_area, cryaquolis_complex\n",
      "\n",
      "Topic 6: vanet, climatic_zone_lower_montane, stony, very_stony, wetmore_families, ratake_families_complex, cache_la_poudre_wilderness_area, geologic_zone_igneous_and_metamorphic, rock_outcrop_complex, comanche_peak_wilderness_area\n",
      "\n",
      "Topic 7: climatic_zone_alpine, moran_family, moran_families, cryaquolls_complex, neota_wilderness_area, rawah_wilderness_area, extremely_bouldery, comanche_peak_wilderness_area, geologic_zone_igneous_and_metamorphic, legault_family\n",
      "\n"
     ]
    }
   ],
   "source": [
    "tf_feature_names = tfidf_vec.get_feature_names()\n",
    "lda_topics = dict()\n",
    "for topic_idx, topic in enumerate(lda.components_):\n",
    "    lda_topics[\"Topic {}:\".format(topic_idx+1)] = [i for i in topic.argsort()[:-11:-1]] # keep track of indicies \n",
    "    print(\"Topic {}:\".format(topic_idx+1), \", \".join([tf_feature_names[i] for i in topic.argsort()[:-11:-1]]))\n",
    "    print(\"\")"
   ]
  },
  {
   "cell_type": "markdown",
   "metadata": {},
   "source": [
    "### Compared to our \"test set\" this is starting to look a bit more reasonable"
   ]
  },
  {
   "cell_type": "code",
   "execution_count": 19,
   "metadata": {
    "collapsed": false
   },
   "outputs": [
    {
     "name": "stdout",
     "output_type": "stream",
     "text": [
      "Soil Type 1: climatic_zone_subalpine, geologic_zone_igneous_and_metamorphic, extremely_stony, rawah_wilderness_area, comanche_peak_wilderness_area, leighcan_family, geologic_zone_glacial, till_substratum, como, legault_families_complex\n",
      "\n",
      "Soil Type 2: geologic_zone_igneous_and_metamorphic, climatic_zone_subalpine, extremely_stony, rawah_wilderness_area, comanche_peak_wilderness_area, como, legault_families_complex, climatic_zone_montane, catamount_families, rock_outcrop_complex\n",
      "\n",
      "Soil Type 3: geologic_zone_igneous_and_metamorphic, rock_outcrop_complex, rubbly, climatic_zone_lower_montane, cache_la_poudre_wilderness_area, comanche_peak_wilderness_area, climatic_zone_montane, bullwark, catamount_families, vanet\n",
      "\n",
      "Soil Type 4: cache_la_poudre_wilderness_area, geologic_zone_igneous_and_metamorphic, rock_outcrop_complex, climatic_zone_lower_montane, rubbly, haploborolis, geologic_zone_alluvium, climatic_zone_montane_and_subalpine, gateview_family, cryaquolis_complex\n",
      "\n",
      "Soil Type 5: geologic_zone_igneous_and_metamorphic, comanche_peak_wilderness_area, climatic_zone_subalpine, extremely_stony, rawah_wilderness_area, rock_land, rubbly, climatic_zone_montane, como_family, legault_family_complex\n",
      "\n",
      "Soil Type 6: geologic_zone_igneous_and_metamorphic, rock_outcrop_complex, rubbly, catamount_families, climatic_zone_montane, cache_la_poudre_wilderness_area, bullwark, comanche_peak_wilderness_area, climatic_zone_lower_montane, vanet\n",
      "\n",
      "Soil Type 7: geologic_zone_igneous_and_metamorphic, extremely_stony, climatic_zone_alpine, comanche_peak_wilderness_area, cryorthents, moran_family, leighcan, leighcan_family_complex, moran_families, cryaquolls_complex\n",
      "\n"
     ]
    }
   ],
   "source": [
    "for k, v in soil_CountVect.items():\n",
    "    print(k, v)\n",
    "    print(\"\")"
   ]
  },
  {
   "cell_type": "markdown",
   "metadata": {},
   "source": [
    "### Comparing our LDA predictions for the 10 most common 'features' per topic "
   ]
  },
  {
   "cell_type": "code",
   "execution_count": 20,
   "metadata": {
    "collapsed": false
   },
   "outputs": [
    {
     "data": {
      "text/plain": [
       "{'Topic 1:': [30, 16, 42, 52, 17, 34, 44, 18, 39, 43],\n",
       " 'Topic 2:': [32, 13, 22, 31, 5, 17, 63, 67, 28, 2],\n",
       " 'Topic 3:': [6, 12, 3, 59, 56, 34, 5, 25, 17, 54],\n",
       " 'Topic 4:': [51, 11, 56, 59, 17, 9, 34, 5, 30, 0],\n",
       " 'Topic 5:': [38, 11, 59, 5, 56, 34, 57, 70, 17, 22],\n",
       " 'Topic 6:': [69, 11, 60, 71, 73, 50, 5, 34, 56, 17],\n",
       " 'Topic 7:': [10, 47, 46, 23, 48, 52, 29, 17, 34, 40]}"
      ]
     },
     "execution_count": 20,
     "metadata": {},
     "output_type": "execute_result"
    }
   ],
   "source": [
    "lda_topics"
   ]
  },
  {
   "cell_type": "markdown",
   "metadata": {},
   "source": [
    "### With the true 10 most common features for Soil Type 1"
   ]
  },
  {
   "cell_type": "code",
   "execution_count": 39,
   "metadata": {
    "collapsed": false
   },
   "outputs": [
    {
     "data": {
      "text/plain": [
       "{'Soil Type 1': [16, 34, 30, 52, 17, 43, 33, 62, 18, 39],\n",
       " 'Soil Type 2': [34, 16, 30, 52, 17, 18, 39, 12, 6, 56],\n",
       " 'Soil Type 3': [34, 56, 59, 11, 5, 17, 12, 3, 6, 69],\n",
       " 'Soil Type 4': [5, 34, 56, 11, 59, 38, 32, 13, 31, 22],\n",
       " 'Soil Type 5': [34, 17, 16, 30, 52, 53, 59, 12, 19, 41],\n",
       " 'Soil Type 6': [34, 56, 59, 6, 12, 5, 3, 17, 11, 69],\n",
       " 'Soil Type 7': [34, 30, 10, 17, 25, 47, 42, 44, 46, 23]}"
      ]
     },
     "execution_count": 39,
     "metadata": {},
     "output_type": "execute_result"
    }
   ],
   "source": [
    "soil_types = {}\n",
    "for i in range(1,8):\n",
    "    l = []\n",
    "    for j in soil_CountVect[\"Soil Type {}:\".format(i)].split(\", \"):\n",
    "        l.append(tf_feature_names.index(j))\n",
    "    soil_types[\"Soil Type {}\".format(i)] = l\n",
    "\n",
    "soil_types"
   ]
  },
  {
   "cell_type": "markdown",
   "metadata": {},
   "source": [
    "### Here's the catch with LDA and NMF. Both are predicting topics, however, 'Topic 1' does not necessarily match up with the true 'Topic' --> 'Soil Type 1'\n",
    "- Making a huge assumption here (along with a number of others) when 'predicting' the accuracy of these models\n",
    "- Additionally, I am only looking at the 10 most common 'features'"
   ]
  },
  {
   "cell_type": "code",
   "execution_count": 42,
   "metadata": {
    "collapsed": false
   },
   "outputs": [
    {
     "name": "stdout",
     "output_type": "stream",
     "text": [
      "16 30\n",
      "34 16\n",
      "30 42\n",
      "52 52\n",
      "17 17\n",
      "43 34\n",
      "33 44\n",
      "62 18\n",
      "18 39\n",
      "39 43\n"
     ]
    }
   ],
   "source": [
    "test_true = list()\n",
    "for y_true, y_pred in zip(soil_CountVect[\"Soil Type 1:\"].split(\", \"), lda_topics[\"Topic 1:\"]):\n",
    "    test_true.append(tf_feature_names.index(y_true))\n",
    "    print(tf_feature_names.index(y_true), y_pred)"
   ]
  },
  {
   "cell_type": "code",
   "execution_count": 28,
   "metadata": {
    "collapsed": false
   },
   "outputs": [
    {
     "data": {
      "text/plain": [
       "([16, 34, 30, 52, 17, 43, 33, 62, 18, 39],\n",
       " [30, 16, 42, 52, 17, 34, 44, 18, 39, 43])"
      ]
     },
     "execution_count": 28,
     "metadata": {},
     "output_type": "execute_result"
    }
   ],
   "source": [
    "y_true, y_pred"
   ]
  },
  {
   "cell_type": "code",
   "execution_count": 30,
   "metadata": {
    "collapsed": false
   },
   "outputs": [
    {
     "data": {
      "text/plain": [
       "80.0"
      ]
     },
     "execution_count": 30,
     "metadata": {},
     "output_type": "execute_result"
    }
   ],
   "source": [
    "inter = set(y_true).intersection(set(y_pred))\n",
    "\n",
    "len(inter)/len(y_true)*100"
   ]
  },
  {
   "cell_type": "code",
   "execution_count": 33,
   "metadata": {
    "collapsed": false
   },
   "outputs": [
    {
     "name": "stdout",
     "output_type": "stream",
     "text": [
      "'Accuracy' for 'Topic 1': 80.0\n",
      "'Accuracy' for 'Topic 2': 10.0\n",
      "'Accuracy' for 'Topic 3': 80.0\n",
      "'Accuracy' for 'Topic 4': 50.0\n",
      "'Accuracy' for 'Topic 5': 30.0\n",
      "'Accuracy' for 'Topic 6': 60.0\n",
      "'Accuracy' for 'Topic 7': 60.0\n"
     ]
    }
   ],
   "source": [
    "hack_accuracy = []\n",
    "for i in range(1, 8):\n",
    "    y_true, y_pred = list(), list()\n",
    "    compare = zip(soil_CountVect[\"Soil Type {}:\".format(i)].split(\", \"), \\\n",
    "                  lda_topics[\"Topic {}:\".format(i)])\n",
    "    for true, pred in compare:\n",
    "        y_true.append(tf_feature_names.index(true))\n",
    "        y_pred.append(pred)\n",
    "    \n",
    "    inter = set(y_true).intersection(set(y_pred))\n",
    "    acc = len(inter)/len(y_true)*100\n",
    "    hack_accuracy.append(acc)\n",
    "    print(\"'Accuracy' for 'Topic {}': {}\".format(i, acc))"
   ]
  },
  {
   "cell_type": "markdown",
   "metadata": {},
   "source": [
    "### Final 'Accuracy Metric' is 52.85%. That was ugly, lets try something a bit nicer. "
   ]
  },
  {
   "cell_type": "code",
   "execution_count": 37,
   "metadata": {
    "collapsed": false
   },
   "outputs": [
    {
     "data": {
      "text/plain": [
       "52.857142857142854"
      ]
     },
     "execution_count": 37,
     "metadata": {},
     "output_type": "execute_result"
    }
   ],
   "source": [
    "np.mean(hack_accuracy)"
   ]
  },
  {
   "cell_type": "markdown",
   "metadata": {},
   "source": [
    "___"
   ]
  }
 ],
 "metadata": {
  "kernelspec": {
   "display_name": "Python [conda env:special_topics]",
   "language": "python",
   "name": "conda-env-special_topics-py"
  },
  "language_info": {
   "codemirror_mode": {
    "name": "ipython",
    "version": 3
   },
   "file_extension": ".py",
   "mimetype": "text/x-python",
   "name": "python",
   "nbconvert_exporter": "python",
   "pygments_lexer": "ipython3",
   "version": "3.6.3"
  }
 },
 "nbformat": 4,
 "nbformat_minor": 2
}
