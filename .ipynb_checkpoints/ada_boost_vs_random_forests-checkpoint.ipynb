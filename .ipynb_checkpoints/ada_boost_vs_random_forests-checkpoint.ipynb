{
 "cells": [
  {
   "cell_type": "code",
   "execution_count": 1,
   "metadata": {
    "collapsed": true
   },
   "outputs": [],
   "source": [
    "from sklearn.datasets import fetch_covtype # dataset\n",
    "from sklearn.model_selection import train_test_split\n",
    "from sklearn.ensemble import AdaBoostClassifier\n",
    "from sklearn.tree import DecisionTreeClassifier\n",
    "from sklearn.ensemble import RandomForestClassifier \n",
    "from sklearn.metrics import classification_report"
   ]
  },
  {
   "cell_type": "code",
   "execution_count": 2,
   "metadata": {
    "collapsed": true
   },
   "outputs": [],
   "source": [
    "# download the dataset from:\n",
    "# \"http://archive.ics.uci.edu/ml/machine-learning-databases/covtype/covtype.data.gz\"\n",
    "cover_type = fetch_covtype() "
   ]
  },
  {
   "cell_type": "code",
   "execution_count": 3,
   "metadata": {
    "collapsed": false
   },
   "outputs": [
    {
     "data": {
      "text/plain": [
       "((581012, 54), (581012,))"
      ]
     },
     "execution_count": 3,
     "metadata": {},
     "output_type": "execute_result"
    }
   ],
   "source": [
    "y = cover_type.target\n",
    "X = cover_type.data\n",
    "\n",
    "X.shape, y.shape"
   ]
  },
  {
   "cell_type": "markdown",
   "metadata": {},
   "source": [
    "###  Forest Covertype Dataset contains 581012 samples with  54 features. Explored in depth: \n",
    "https://github.com/adamszabunio/Forest_Cover_Type/tree/master/EDA/Further_EDA_and_Logistic_Regression.ipynb\n",
    "### Since our dataset is rather large, and we will be doing cross validation on our training set,\n",
    "- We set the test_size paramater to 0.1 set aside %10 to test the trained models accuracy.\n",
    "- Due to large class imbalances in our target matrix, we set the stratify parameter=y. \n",
    "    - This makes a split so that the proportion of classes in the test and train sets will be similar"
   ]
  },
  {
   "cell_type": "code",
   "execution_count": 4,
   "metadata": {
    "collapsed": true
   },
   "outputs": [],
   "source": [
    "X_train, X_test, y_train, y_test = train_test_split(X, y, \n",
    "                                                    test_size=0.1, \n",
    "                                                    random_state=42, # for reproducibility\n",
    "                                                    stratify=y)"
   ]
  },
  {
   "cell_type": "code",
   "execution_count": 5,
   "metadata": {
    "collapsed": false
   },
   "outputs": [
    {
     "data": {
      "text/plain": [
       "((522910, 54), (58102, 54))"
      ]
     },
     "execution_count": 5,
     "metadata": {},
     "output_type": "execute_result"
    }
   ],
   "source": [
    "X_train.shape, X_test.shape"
   ]
  },
  {
   "cell_type": "markdown",
   "metadata": {},
   "source": [
    "## Adaptive Boost Algorithm"
   ]
  },
  {
   "cell_type": "code",
   "execution_count": null,
   "metadata": {
    "collapsed": false
   },
   "outputs": [],
   "source": [
    "'''\n",
    "Given: \n",
    "    N, (number of samples)\n",
    "    estimators, (number of estimators)\n",
    "    weakL, (weak learner)\n",
    "    X_train, y_train (training set from data (X,y))\n",
    "\n",
    "# Initialize weights\n",
    "For each sample in range(N):\n",
    "    weight = 1/N\n",
    "\n",
    "For each est in range(estimators):\n",
    "    # fit a weak learner to the training data using the weight \n",
    "    est = weakL.fit(X_train, y_train, weight)\n",
    "    # calculate error\n",
    "    error = sum(weight * (est(x) != y)) / sum(weight)\n",
    "    # calculate alpha\n",
    "    alpha = (1/2)ln((1-error)/error)\n",
    "    # Update weights\n",
    "    weight *= exp(alpha * (est(x) != y))\n",
    "    \n",
    "    For each i in range(N):\n",
    "        # estimator misclassifies y\n",
    "        if est(x_i) != y: \n",
    "            # increase weight of i for next estimator\n",
    "            weight_i(est + 1) = weight_i(est)/(2*error)\n",
    "        # estimator classifies y correctly\n",
    "        else:\n",
    "            # decrease weight of i for next estimator\n",
    "            weight_i(est + 1) = weight_i(est)/(2*(1-error))\n",
    "            \n",
    "# return sum of predictions for all est*alpha\n",
    "return sum(est*alpha)\n",
    "'''"
   ]
  },
  {
   "cell_type": "markdown",
   "metadata": {},
   "source": [
    "### Reasons to use Ada Boost\n",
    "- Besides deciding on the number of weak classifiers (assumption is made) and the initial weight, there are no parameters to tune\n",
    "- Fast and versatile \n",
    "- You can have little prior knowledge about the weak classifier (for example, decision stumps)"
   ]
  },
  {
   "cell_type": "code",
   "execution_count": 6,
   "metadata": {
    "collapsed": false
   },
   "outputs": [
    {
     "data": {
      "text/plain": [
       "AdaBoostClassifier(algorithm='SAMME.R', base_estimator=None,\n",
       "          learning_rate=1.0, n_estimators=50, random_state=None)"
      ]
     },
     "execution_count": 6,
     "metadata": {},
     "output_type": "execute_result"
    }
   ],
   "source": [
    "clf_stump = AdaBoostClassifier()\n",
    "clf_stump.fit(X_train, y_train)"
   ]
  },
  {
   "cell_type": "markdown",
   "metadata": {},
   "source": [
    "### Default \"base_estimator\" for AdaBoost Classifier is a Decision Tree with max_depth=1 (aka \"Decision Stump\")"
   ]
  },
  {
   "cell_type": "code",
   "execution_count": 7,
   "metadata": {
    "collapsed": false
   },
   "outputs": [
    {
     "data": {
      "text/plain": [
       "0.4541668100925958"
      ]
     },
     "execution_count": 7,
     "metadata": {},
     "output_type": "execute_result"
    }
   ],
   "source": [
    "clf_stump.score(X_test, y_test) "
   ]
  },
  {
   "cell_type": "markdown",
   "metadata": {},
   "source": [
    "### Score is slightly worse than the handcoded [RandomForest class](https://github.com/adamszabunio/Forest_Cover_Type/tree/master/Random_Forests/random_forests.py) implemented in [this notebook](https://github.com/adamszabunio/Forest_Cover_Type/tree/master/Random_Forests/Random_Forests_on_Random_Forests.ipynb)"
   ]
  },
  {
   "cell_type": "code",
   "execution_count": 8,
   "metadata": {
    "collapsed": false
   },
   "outputs": [
    {
     "data": {
      "text/plain": [
       "AdaBoostClassifier(algorithm='SAMME.R',\n",
       "          base_estimator=DecisionTreeClassifier(class_weight=None, criterion='gini', max_depth=None,\n",
       "            max_features=None, max_leaf_nodes=None,\n",
       "            min_impurity_decrease=0.0, min_impurity_split=None,\n",
       "            min_samples_leaf=1, min_samples_split=2,\n",
       "            min_weight_fraction_leaf=0.0, presort=False, random_state=None,\n",
       "            splitter='best'),\n",
       "          learning_rate=1.0, n_estimators=10, random_state=None)"
      ]
     },
     "execution_count": 8,
     "metadata": {},
     "output_type": "execute_result"
    }
   ],
   "source": [
    "clf = AdaBoostClassifier(base_estimator=DecisionTreeClassifier(), n_estimators=10)\n",
    "clf.fit(X_train, y_train)"
   ]
  },
  {
   "cell_type": "code",
   "execution_count": 9,
   "metadata": {
    "collapsed": false
   },
   "outputs": [
    {
     "data": {
      "text/plain": [
       "0.94125847647241057"
      ]
     },
     "execution_count": 9,
     "metadata": {},
     "output_type": "execute_result"
    }
   ],
   "source": [
    "# the default for AdaBoost Classifier is a Decision Stump with max_depth=1\n",
    "# when we take this default away, the decision tree continues splitting at each node until\n",
    "# it reaches purity, no surprise the model with an perfectly fit tree preforms better \n",
    "clf.score(X_test, y_test)"
   ]
  },
  {
   "cell_type": "markdown",
   "metadata": {},
   "source": [
    "### However, if we change the base estimator to a DecisionTreeClassifier() with no restriction on max_depth (with an equal number of estimators, 10)\n",
    "- compared to the default AdaBoostClassifier, the score nearly doubles.\n",
    "- compared to the handcoded implementation of RandomForests not only does the score double, the runtime is oreders of magnitude faster."
   ]
  },
  {
   "cell_type": "code",
   "execution_count": 10,
   "metadata": {
    "collapsed": false
   },
   "outputs": [
    {
     "name": "stdout",
     "output_type": "stream",
     "text": [
      "             precision    recall  f1-score   support\n",
      "\n",
      "          1       0.94      0.94      0.94     21184\n",
      "          2       0.95      0.95      0.95     28331\n",
      "          3       0.93      0.93      0.93      3575\n",
      "          4       0.84      0.82      0.83       275\n",
      "          5       0.84      0.84      0.84       949\n",
      "          6       0.88      0.87      0.87      1737\n",
      "          7       0.95      0.94      0.94      2051\n",
      "\n",
      "avg / total       0.94      0.94      0.94     58102\n",
      "\n"
     ]
    }
   ],
   "source": [
    "y_pred = clf.predict(X_test)\n",
    "print(classification_report(y_test, y_pred))"
   ]
  },
  {
   "cell_type": "markdown",
   "metadata": {},
   "source": [
    "# Time comparisons between training RandomForestClassifier and AdaBoost Classifier"
   ]
  },
  {
   "cell_type": "code",
   "execution_count": 11,
   "metadata": {
    "collapsed": false
   },
   "outputs": [
    {
     "name": "stdout",
     "output_type": "stream",
     "text": [
      "1 loop, best of 3: 20.6 s per loop\n"
     ]
    }
   ],
   "source": [
    "%%timeit \n",
    "clf_rf = RandomForestClassifier()# 10 trees\n",
    "clf_rf.fit(X_train, y_train)"
   ]
  },
  {
   "cell_type": "code",
   "execution_count": 13,
   "metadata": {
    "collapsed": false
   },
   "outputs": [
    {
     "name": "stdout",
     "output_type": "stream",
     "text": [
      "1 loop, best of 3: 14.6 s per loop\n"
     ]
    }
   ],
   "source": [
    "%%timeit \n",
    "clf = AdaBoostClassifier(base_estimator=DecisionTreeClassifier(), n_estimators=10)\n",
    "clf.fit(X_train, y_train)"
   ]
  },
  {
   "cell_type": "code",
   "execution_count": 14,
   "metadata": {
    "collapsed": false
   },
   "outputs": [
    {
     "data": {
      "text/plain": [
       "RandomForestClassifier(bootstrap=True, class_weight=None, criterion='gini',\n",
       "            max_depth=None, max_features='auto', max_leaf_nodes=None,\n",
       "            min_impurity_decrease=0.0, min_impurity_split=None,\n",
       "            min_samples_leaf=1, min_samples_split=2,\n",
       "            min_weight_fraction_leaf=0.0, n_estimators=10, n_jobs=1,\n",
       "            oob_score=False, random_state=None, verbose=0,\n",
       "            warm_start=False)"
      ]
     },
     "execution_count": 14,
     "metadata": {},
     "output_type": "execute_result"
    }
   ],
   "source": [
    "clf_rf = RandomForestClassifier()# 10 trees\n",
    "clf_rf.fit(X_train, y_train)"
   ]
  },
  {
   "cell_type": "markdown",
   "metadata": {},
   "source": [
    "# Time comparisons between predictions for RandomForestClassifier and AdaBoost Classifier"
   ]
  },
  {
   "cell_type": "code",
   "execution_count": 16,
   "metadata": {
    "collapsed": false
   },
   "outputs": [
    {
     "name": "stdout",
     "output_type": "stream",
     "text": [
      "10 loops, best of 3: 43.9 ms per loop\n"
     ]
    }
   ],
   "source": [
    "%%timeit -n 10\n",
    "clf.score(X_test, y_test)"
   ]
  },
  {
   "cell_type": "code",
   "execution_count": 17,
   "metadata": {
    "collapsed": false
   },
   "outputs": [
    {
     "name": "stdout",
     "output_type": "stream",
     "text": [
      "10 loops, best of 3: 269 ms per loop\n"
     ]
    }
   ],
   "source": [
    "%%timeit -n 10\n",
    "clf_rf.score(X_test, y_test)"
   ]
  },
  {
   "cell_type": "code",
   "execution_count": 20,
   "metadata": {
    "collapsed": false
   },
   "outputs": [
    {
     "data": {
      "text/plain": [
       "0.94624969880554888"
      ]
     },
     "execution_count": 20,
     "metadata": {},
     "output_type": "execute_result"
    }
   ],
   "source": [
    "clf_rf.score(X_test, y_test)"
   ]
  },
  {
   "cell_type": "code",
   "execution_count": 21,
   "metadata": {
    "collapsed": false
   },
   "outputs": [
    {
     "data": {
      "text/html": [
       "<div>\n",
       "<style scoped>\n",
       "    .dataframe tbody tr th:only-of-type {\n",
       "        vertical-align: middle;\n",
       "    }\n",
       "\n",
       "    .dataframe tbody tr th {\n",
       "        vertical-align: top;\n",
       "    }\n",
       "\n",
       "    .dataframe thead th {\n",
       "        text-align: right;\n",
       "    }\n",
       "</style>\n",
       "<table border=\"1\" class=\"dataframe\">\n",
       "  <thead>\n",
       "    <tr style=\"text-align: right;\">\n",
       "      <th></th>\n",
       "      <th>predicition runtime</th>\n",
       "      <th>score</th>\n",
       "      <th>training runtime</th>\n",
       "    </tr>\n",
       "  </thead>\n",
       "  <tbody>\n",
       "    <tr>\n",
       "      <th>RandomForestClassifier</th>\n",
       "      <td>269 ms</td>\n",
       "      <td>0.9462</td>\n",
       "      <td>20.6 s</td>\n",
       "    </tr>\n",
       "    <tr>\n",
       "      <th>AdaBoost Classifier</th>\n",
       "      <td>43.9 ms</td>\n",
       "      <td>0.9413</td>\n",
       "      <td>14.6 s</td>\n",
       "    </tr>\n",
       "  </tbody>\n",
       "</table>\n",
       "</div>"
      ],
      "text/plain": [
       "                       predicition runtime   score training runtime\n",
       "RandomForestClassifier              269 ms  0.9462           20.6 s\n",
       "AdaBoost Classifier                43.9 ms  0.9413           14.6 s"
      ]
     },
     "execution_count": 21,
     "metadata": {},
     "output_type": "execute_result"
    }
   ],
   "source": [
    "import pandas as pd\n",
    "pd.DataFrame({\"training runtime\": [\"20.6 s\", \"14.6 s\"], \\\n",
    "              \"predicition runtime\": [\"269 ms\",\"43.9 ms\"], \\\n",
    "              \"score\": [0.9462, 0.9413]}, \\\n",
    "              index=[\"RandomForestClassifier\", \"AdaBoost Classifier\"])"
   ]
  },
  {
   "cell_type": "markdown",
   "metadata": {},
   "source": [
    "# Conclusion:\n",
    "### Similar scores for both algorithims \n",
    "- AdaBoost is faster for trainging (albeit a high learning rate of 1.0)\n",
    "- AdaBoost is much faster at prediciting (nearly an order of magnitude)"
   ]
  },
  {
   "cell_type": "markdown",
   "metadata": {},
   "source": [
    "___"
   ]
  }
 ],
 "metadata": {
  "kernelspec": {
   "display_name": "Python [default]",
   "language": "python",
   "name": "python3"
  },
  "language_info": {
   "codemirror_mode": {
    "name": "ipython",
    "version": 3
   },
   "file_extension": ".py",
   "mimetype": "text/x-python",
   "name": "python",
   "nbconvert_exporter": "python",
   "pygments_lexer": "ipython3",
   "version": "3.6.0"
  }
 },
 "nbformat": 4,
 "nbformat_minor": 2
}
